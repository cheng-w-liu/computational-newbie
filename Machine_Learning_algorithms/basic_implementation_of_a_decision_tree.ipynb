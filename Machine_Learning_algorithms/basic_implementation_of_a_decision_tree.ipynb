{
 "cells": [
  {
   "cell_type": "markdown",
   "metadata": {},
   "source": [
    "I accidentally noticed a really awesome blog post that explains how to build a decision tree from scratch in Python http://www.patricklamle.com/Tutorials/Decision%20tree%20python/tuto_decision%20tree.html\n",
    "\n",
    "To test my own understanding, I wrote the following mock code to reproduce the results. All the credits go to the above blog author."
   ]
  },
  {
   "cell_type": "code",
   "execution_count": 43,
   "metadata": {
    "collapsed": false
   },
   "outputs": [],
   "source": [
    "import sys\n",
    "import numpy as np"
   ]
  },
  {
   "cell_type": "code",
   "execution_count": 44,
   "metadata": {
    "collapsed": false
   },
   "outputs": [],
   "source": [
    "sys.setrecursionlimit(1000)"
   ]
  },
  {
   "cell_type": "code",
   "execution_count": 25,
   "metadata": {
    "collapsed": false
   },
   "outputs": [],
   "source": [
    "def countTargets(rows):\n",
    "    value_counts = {}\n",
    "    for row in rows:\n",
    "        r = row[-1]\n",
    "        if r not in value_counts:\n",
    "            value_counts[r] = 0\n",
    "        value_counts[r] += 1\n",
    "    return value_counts\n",
    "    \n",
    "def entropy(rows):\n",
    "    value_counts = countTargets(rows)\n",
    "    entr = 0.0\n",
    "    for val in value_counts.keys():\n",
    "        p = float(value_counts[val])/float(len(rows))\n",
    "        entr -= p*np.log2(p)\n",
    "    return entr\n",
    "\n",
    "def split(rows, col_idx, col_val):\n",
    "    split_func = None\n",
    "    if isinstance(col_val, int) or isinstance(col_val, float):\n",
    "        split_func = lambda row: row[col_idx] >= col_val\n",
    "    else:\n",
    "        split_func = lambda row: row[col_idx] == col_val\n",
    "    \n",
    "    true_set = [row for row in rows if split_func(row)]\n",
    "    false_set = [row for row in rows if not split_func(row)]\n",
    "    return (true_set, false_set)\n"
   ]
  },
  {
   "cell_type": "code",
   "execution_count": 20,
   "metadata": {
    "collapsed": false
   },
   "outputs": [],
   "source": [
    "class TreeNode(object):\n",
    "    def __init__(self, col=-1, val=None, data=None, tb=None, fb=None):\n",
    "        # col: index for the column that's used for the splitting\n",
    "        # value for the splitting critetia\n",
    "        # data: # if this node is a leaf node, data will be the target counts in this leaf node, None otherwise\n",
    "        # tb: True branch, branch for the examples that meet the splitting criteria\n",
    "        # fb: False branch, branch for the examples that do not meet the splitting criteria\n",
    "        self.col = col\n",
    "        self.val = val\n",
    "        self.data = data \n",
    "        self.tb = tb \n",
    "        self.fb = fb\n",
    "        "
   ]
  },
  {
   "cell_type": "code",
   "execution_count": 46,
   "metadata": {
    "collapsed": true
   },
   "outputs": [],
   "source": [
    "def buildTree(rows, score_function=entropy):\n",
    "    if not rows:\n",
    "        return TreeNode()\n",
    "    \n",
    "    current_score = score_function(rows)\n",
    "\n",
    "    best_gain = 0\n",
    "    best_criteria = None\n",
    "    best_split = None    \n",
    "    \n",
    "    n_features = len(rows[0]) - 1\n",
    "    for col in range(n_features):\n",
    "        distinct_values = {}        \n",
    "        for row in rows:\n",
    "            distinct_values[row[col]] = 1\n",
    "        for val in distinct_values.keys():\n",
    "            true_set, false_set = split(rows, col, val)\n",
    "            w1 = len(true_set)/float(len(rows))\n",
    "            gain = current_score - w1*score_function(true_set) - (1.0-w1)*score_function(false_set)\n",
    "            if gain > best_gain and len(true_set) > 0 and len(false_set) > 0:\n",
    "                best_gain = gain\n",
    "                best_criteria = (col, val)\n",
    "                best_split = true_set, false_set\n",
    "    if best_gain > 0:\n",
    "        true_branch = buildTree(best_split[0])\n",
    "        false_branch = buildTree(best_split[1])\n",
    "        return TreeNode(col=best_criteria[0], val=best_criteria[1], tb=true_branch, fb=false_branch)\n",
    "    else:\n",
    "        return TreeNode(data=countTargets(rows))\n"
   ]
  },
  {
   "cell_type": "code",
   "execution_count": 51,
   "metadata": {
    "collapsed": false
   },
   "outputs": [],
   "source": [
    "def showTree(root):\n",
    "    showTreeRrecursive(root, 0)\n",
    "    \n",
    "def showTreeRrecursive(root, depth):\n",
    "    indent = '    '*depth\n",
    "    if root.data is not None:\n",
    "        print(indent+str(root.data))\n",
    "    else:\n",
    "        print(indent+'col_index: {0:}, splitting value: {1:}'.format(root.col, root.val))\n",
    "        print(indent+'T->')\n",
    "        showTreeRrecursive(root.tb, depth+1)\n",
    "        print(indent+'F->')\n",
    "        showTreeRrecursive(root.fb, depth+1)\n",
    "        "
   ]
  },
  {
   "cell_type": "code",
   "execution_count": 23,
   "metadata": {
    "collapsed": true
   },
   "outputs": [],
   "source": [
    "my_data=[['slashdot','USA','yes',18,'None'],\n",
    "        ['google','France','yes',23,'Premium'],\n",
    "        ['digg','USA','yes',24,'Basic'],\n",
    "        ['kiwitobes','France','yes',23,'Basic'],\n",
    "        ['google','UK','no',21,'Premium'],\n",
    "        ['(direct)','New Zealand','no',12,'None'],\n",
    "        ['(direct)','UK','no',21,'Basic'],\n",
    "        ['google','USA','no',24,'Premium'],\n",
    "        ['slashdot','France','yes',19,'None'],\n",
    "        ['digg','USA','no',18,'None'],\n",
    "        ['google','UK','no',18,'None'],\n",
    "        ['kiwitobes','UK','no',19,'None'],\n",
    "        ['digg','New Zealand','yes',12,'Basic'],\n",
    "        ['slashdot','UK','no',21,'None'],\n",
    "        ['google','UK','yes',18,'Basic'],\n",
    "        ['kiwitobes','France','yes',19,'Basic']]"
   ]
  },
  {
   "cell_type": "code",
   "execution_count": 47,
   "metadata": {
    "collapsed": false
   },
   "outputs": [],
   "source": [
    "tree = buildTree(my_data)"
   ]
  },
  {
   "cell_type": "code",
   "execution_count": 52,
   "metadata": {
    "collapsed": false
   },
   "outputs": [
    {
     "name": "stdout",
     "output_type": "stream",
     "text": [
      "col_index: 0, splitting value: google\n",
      "T->\n",
      "    col_index: 3, splitting value: 21\n",
      "    T->\n",
      "        {'Premium': 3}\n",
      "    F->\n",
      "        col_index: 2, splitting value: no\n",
      "        T->\n",
      "            {'None': 1}\n",
      "        F->\n",
      "            {'Basic': 1}\n",
      "F->\n",
      "    col_index: 0, splitting value: slashdot\n",
      "    T->\n",
      "        {'None': 3}\n",
      "    F->\n",
      "        col_index: 2, splitting value: yes\n",
      "        T->\n",
      "            {'Basic': 4}\n",
      "        F->\n",
      "            col_index: 3, splitting value: 21\n",
      "            T->\n",
      "                {'Basic': 1}\n",
      "            F->\n",
      "                {'None': 3}\n"
     ]
    }
   ],
   "source": [
    "showTree(tree)"
   ]
  },
  {
   "cell_type": "code",
   "execution_count": 32,
   "metadata": {
    "collapsed": false
   },
   "outputs": [
    {
     "name": "stdout",
     "output_type": "stream",
     "text": [
      "{'None': 7, 'Basic': 6, 'Premium': 3}\n"
     ]
    }
   ],
   "source": [
    "print(countTargets(my_data))"
   ]
  },
  {
   "cell_type": "code",
   "execution_count": 31,
   "metadata": {
    "collapsed": false
   },
   "outputs": [
    {
     "name": "stdout",
     "output_type": "stream",
     "text": [
      "{'None': 1, 'Basic': 3, 'Premium': 3}\n",
      "\n",
      "{'None': 6, 'Basic': 3}\n"
     ]
    }
   ],
   "source": [
    "print(countTargets(split(my_data, 3, 20)[0]))\n",
    "print('')\n",
    "print(countTargets(split(my_data, 3, 20)[1]))"
   ]
  },
  {
   "cell_type": "code",
   "execution_count": 33,
   "metadata": {
    "collapsed": false
   },
   "outputs": [
    {
     "data": {
      "text/plain": [
       "(1.4488156357251847, 0.91829583405448956, 1.5052408149441479)"
      ]
     },
     "execution_count": 33,
     "metadata": {},
     "output_type": "execute_result"
    }
   ],
   "source": [
    "set1, set2 = split(my_data, 3, 20)\n",
    "entropy(set1), entropy(set2), entropy(my_data)\n"
   ]
  },
  {
   "cell_type": "code",
   "execution_count": null,
   "metadata": {
    "collapsed": true
   },
   "outputs": [],
   "source": []
  }
 ],
 "metadata": {
  "kernelspec": {
   "display_name": "Python 3",
   "language": "python",
   "name": "python3"
  },
  "language_info": {
   "codemirror_mode": {
    "name": "ipython",
    "version": 3
   },
   "file_extension": ".py",
   "mimetype": "text/x-python",
   "name": "python",
   "nbconvert_exporter": "python",
   "pygments_lexer": "ipython3",
   "version": "3.5.2"
  }
 },
 "nbformat": 4,
 "nbformat_minor": 0
}
