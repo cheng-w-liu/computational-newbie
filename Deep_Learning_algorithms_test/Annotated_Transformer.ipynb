{
 "cells": [
  {
   "cell_type": "markdown",
   "metadata": {},
   "source": [
    "Following the notebook: http://nlp.seas.harvard.edu/2018/04/03/attention.html\n",
    "\n",
    "See also the following two blog posts:\n",
    "\n",
    "[1] https://huggingface.co/blog/encoder-decoder?utm_campaign=Hugging%2BFace&utm_medium=web&utm_source=Hugging_Face_3\n",
    "\n",
    "[2] http://jalammar.github.io/illustrated-transformer/\n"
   ]
  },
  {
   "cell_type": "code",
   "execution_count": 1,
   "metadata": {},
   "outputs": [],
   "source": [
    "import copy\n",
    "import math\n",
    "import numpy as np\n",
    "import time\n",
    "\n",
    "import torch\n",
    "from torch.autograd import Variable\n",
    "import torch.nn as nn\n",
    "import torch.nn.functional as F"
   ]
  },
  {
   "cell_type": "code",
   "execution_count": 2,
   "metadata": {},
   "outputs": [],
   "source": [
    "import matplotlib.pyplot as plt\n",
    "import seaborn as sbn\n",
    "sbn.set_context(context='talk')\n",
    "%matplotlib inline"
   ]
  },
  {
   "cell_type": "code",
   "execution_count": 3,
   "metadata": {},
   "outputs": [],
   "source": [
    "import warnings\n",
    "warnings.filterwarnings('ignore')"
   ]
  },
  {
   "cell_type": "code",
   "execution_count": 4,
   "metadata": {},
   "outputs": [
    {
     "data": {
      "text/plain": [
       "'1.4.0'"
      ]
     },
     "execution_count": 4,
     "metadata": {},
     "output_type": "execute_result"
    }
   ],
   "source": [
    "torch.__version__"
   ]
  },
  {
   "cell_type": "code",
   "execution_count": 5,
   "metadata": {},
   "outputs": [],
   "source": [
    "def clones(module, N):\n",
    "    return nn.ModuleList([copy.deepcopy(module) for _ in range(N)])"
   ]
  },
  {
   "cell_type": "markdown",
   "metadata": {},
   "source": [
    "# Part I. Model"
   ]
  },
  {
   "cell_type": "markdown",
   "metadata": {},
   "source": [
    "# 1. Masking"
   ]
  },
  {
   "cell_type": "markdown",
   "metadata": {},
   "source": [
    "if the original sentence is [1, 2, 3, 4]\n",
    "  the sequence used as input would be: [1, 2, 3]\n",
    "  with the following being the target: [2, 3, 4]\n",
    "  \n",
    "  In other words, \n",
    "      - given [1], the decoder should output 2\n",
    "      - givne [1, 2], the decoder should output 3\n",
    "      - given [1, 2, 3], the decoder should output 4\n"
   ]
  },
  {
   "cell_type": "code",
   "execution_count": 6,
   "metadata": {},
   "outputs": [],
   "source": [
    "def subsequent_mask(size):\n",
    "    \"\"\"\n",
    "    generate mask for the target sentence\n",
    "    \n",
    "    params:\n",
    "      size: int\n",
    "      \n",
    "    return:\n",
    "      mask: shape (1, size, size)\n",
    "    \"\"\"\n",
    "    attn_shape = (1, size, size)\n",
    "    subsequent_mask = np.triu(np.ones(attn_shape), k=1).astype('uint8')\n",
    "    return torch.from_numpy(subsequent_mask) == 0"
   ]
  },
  {
   "cell_type": "code",
   "execution_count": 7,
   "metadata": {},
   "outputs": [
    {
     "data": {
      "text/plain": [
       "tensor([[ True, False, False],\n",
       "        [ True,  True, False],\n",
       "        [ True,  True,  True]])"
      ]
     },
     "execution_count": 7,
     "metadata": {},
     "output_type": "execute_result"
    }
   ],
   "source": [
    "subsequent_mask(3)[0]"
   ]
  },
  {
   "cell_type": "markdown",
   "metadata": {},
   "source": [
    "# 2. Batching"
   ]
  },
  {
   "cell_type": "code",
   "execution_count": 8,
   "metadata": {},
   "outputs": [],
   "source": [
    "class Batch:\n",
    "    \"\"\"\n",
    "    Object for holding a batch of data with mask \n",
    "    \"\"\"\n",
    "    def __init__(self, src, trg=None, pad=0):\n",
    "        \"\"\"\n",
    "        params:\n",
    "          src: source sentence, tensor, shape (batch, src_len)\n",
    "          trg: target sentence, tensor, shape (batch, trg_len)\n",
    "                  \n",
    "        \"\"\"\n",
    "        self.src = src  # shape (batch, src_len)\n",
    "        self.src_mask = (src != pad).unsqueeze(-2)  # shape (batch, 1, src_len)\n",
    "        if trg is not None:\n",
    "            self.trg = trg[:, :-1]  # shape (batch, trg_len1), where trg_len = trg_len - 1\n",
    "            self.trg_y = trg[:, 1:] # sape (batch, trg_len1)\n",
    "            self.trg_mask = self.make_std_mask(self.trg, pad)  # shape (batch, len1, len1)\n",
    "            self.ntokens = (self.trg_y != pad).data.sum()\n",
    "            \n",
    "    @staticmethod        \n",
    "    def make_std_mask(tgt, pad):\n",
    "        \"\"\"\n",
    "        params:\n",
    "          tgt: target sentence, tensor, shape (batch, len)\n",
    "          pad: padding index, int\n",
    "        \n",
    "        return\n",
    "          mask: shape (batch, len, len)\n",
    "        \"\"\"\n",
    "        padding_mask = (tgt != pad).unsqueeze(-2)  # shape (batch, 1, len)\n",
    "        future_mask = Variable(subsequent_mask(tgt.size(-1))).type_as(padding_mask.data)  # shape (1, len, len)\n",
    "        mask = padding_mask & future_mask  # shape (batch, len, len)\n",
    "        return mask   "
   ]
  },
  {
   "cell_type": "markdown",
   "metadata": {},
   "source": [
    "# 3. Synthetic Data"
   ]
  },
  {
   "cell_type": "code",
   "execution_count": 9,
   "metadata": {},
   "outputs": [],
   "source": [
    "def data_generator(V, batch, nbatches):\n",
    "    \"\"\"\n",
    "    use 0 as the index for BOS, beginning of the sentence \n",
    "        V-1 as the index for EOS, end of a sentence\n",
    "    \"\"\"\n",
    "    for i in range(nbatches):\n",
    "        data = np.random.randint(1, V-1, size=(batch, 10))  # 0 is included, V-1 is *not* included\n",
    "        \n",
    "        bos = np.zeros(shape=(batch, 1))\n",
    "        eos = np.ones(shape=(batch, 1)) * (V - 1)\n",
    "        \n",
    "        src = Variable(\n",
    "            torch.from_numpy(np.concatenate([data, eos], axis=1)), \n",
    "            requires_grad=False\n",
    "        ).type(torch.long)\n",
    "\n",
    "        tgt = Variable(\n",
    "            torch.from_numpy(np.concatenate([bos, data, eos], axis=1)), \n",
    "            requires_grad=False\n",
    "        ).type(torch.long)\n",
    "        \n",
    "        yield Batch(src, tgt, -1)    "
   ]
  },
  {
   "cell_type": "markdown",
   "metadata": {},
   "source": [
    "# 4. Transformer architecture"
   ]
  },
  {
   "cell_type": "markdown",
   "metadata": {},
   "source": [
    "## 4.1 Five submodules"
   ]
  },
  {
   "cell_type": "markdown",
   "metadata": {},
   "source": [
    "### 4.1.1 Positional encoding"
   ]
  },
  {
   "cell_type": "code",
   "execution_count": 10,
   "metadata": {},
   "outputs": [],
   "source": [
    "class PositionalEncoding(nn.Module):\n",
    "    \"Implement the PE function.\"\n",
    "    def __init__(self, d_model, dropout, max_len=5000):\n",
    "        super(PositionalEncoding, self).__init__()\n",
    "        self.dropout = nn.Dropout(p=dropout)\n",
    "        \n",
    "        # Compute the positional encodings once in log space.\n",
    "        pe = torch.zeros(max_len, d_model)\n",
    "        position = torch.arange(0, max_len).unsqueeze(1)\n",
    "        div_term = torch.exp(torch.arange(0, d_model, 2) *\n",
    "                             -(math.log(10000.0) / d_model))\n",
    "        pe[:, 0::2] = torch.sin(position * div_term)\n",
    "        pe[:, 1::2] = torch.cos(position * div_term)\n",
    "        pe = pe.unsqueeze(0)\n",
    "        self.register_buffer('pe', pe)\n",
    "        \n",
    "    def forward(self, x):\n",
    "        # Question: What's the difference between Parameter and Variable?\n",
    "        x = x + Variable(self.pe[:, :x.size(1)], \n",
    "                         requires_grad=False)\n",
    "        return self.dropout(x)"
   ]
  },
  {
   "cell_type": "markdown",
   "metadata": {},
   "source": [
    "### 4.1.2 Embedding layer"
   ]
  },
  {
   "cell_type": "code",
   "execution_count": 11,
   "metadata": {},
   "outputs": [],
   "source": [
    "class Embeddings(nn.Module):\n",
    "    \"\"\"\n",
    "    Implement the embedding layer in the Transformer\n",
    "    \"\"\"\n",
    "    def __init__(self, d_model, vocab):\n",
    "        super(Embeddings, self).__init__()\n",
    "        self.d_model = d_model\n",
    "        self.lut = nn.Embedding(num_embeddings=vocab, embedding_dim=d_model)\n",
    "        \n",
    "    def forward(self, x):\n",
    "        \"\"\"\n",
    "        params:\n",
    "            x: tokenized input, shape: (batch, sent_len)\n",
    "        returns:\n",
    "            x: embeddings of input, shape: (batch, sent_len, d_model)\n",
    "        \"\"\"\n",
    "        return self.lut(x) * math.sqrt(self.d_model)    "
   ]
  },
  {
   "cell_type": "markdown",
   "metadata": {},
   "source": [
    "### 4.1.3 Layer normalization"
   ]
  },
  {
   "cell_type": "code",
   "execution_count": 12,
   "metadata": {},
   "outputs": [],
   "source": [
    "class LayerNorm(nn.Module):\n",
    "    \"\"\"\n",
    "    Implement layer normalization\n",
    "    \"\"\"\n",
    "    def __init__(self, features, eps=1e-6):\n",
    "        \"\"\"\n",
    "        params:\n",
    "            features: no. of features, d_model in practice, int            \n",
    "        \"\"\"\n",
    "        super(LayerNorm, self).__init__()\n",
    "        self.a_2 = nn.Parameter(torch.ones(features))\n",
    "        self.b_2 = nn.Parameter(torch.zeros(features))\n",
    "        self.eps = eps\n",
    "    \n",
    "    def forward(self, x):\n",
    "        \"\"\"\n",
    "        params:\n",
    "            x: tensor, shape: (batch, sent_len, d_model)\n",
    "        return:\n",
    "            x: Layer-normed x, tensor, shape: (batch, sent_len, d_model)\n",
    "        \"\"\"\n",
    "        mean = x.mean(-1, keepdim=True)\n",
    "        std = x.std(-1, keepdim=True)\n",
    "        return self.a_2 * (x - mean) / (std + self.eps) + self.b_2"
   ]
  },
  {
   "cell_type": "markdown",
   "metadata": {},
   "source": [
    "### 4.1.4 Sublayer connection"
   ]
  },
  {
   "cell_type": "code",
   "execution_count": 13,
   "metadata": {},
   "outputs": [],
   "source": [
    "class SublayerConnection(nn.Module):\n",
    "    \"\"\"\n",
    "    Implement a sublayer connection in an Encoder/Decoder layer\n",
    "    \"\"\"\n",
    "    def __init__(self, size, dropout):\n",
    "        super(SublayerConnection, self).__init__()\n",
    "        self.norm = LayerNorm(size)\n",
    "        self.dropout = nn.Dropout(dropout)\n",
    "        \n",
    "    def forward(self, x, sublayer):\n",
    "        \"\"\"\n",
    "        params:\n",
    "            x: tensor, shape: (batch, sent_len, d_model)\n",
    "            layer: an nn.Moduel representing a layer before the sublayer connection\n",
    "        \"\"\"\n",
    "        # Question: this seems to be different from what's specified in the paper\n",
    "        return x + self.dropout(sublayer(self.norm(x)))"
   ]
  },
  {
   "cell_type": "markdown",
   "metadata": {},
   "source": [
    "### 4.1.5 Position-wise feed-forward layer"
   ]
  },
  {
   "cell_type": "code",
   "execution_count": 14,
   "metadata": {},
   "outputs": [],
   "source": [
    "class PositionwiseFeedForward(nn.Module):\n",
    "    \"\"\"\n",
    "    Implement the position-wise feed-forward sublayer inside an Encoder/Decoder layer\n",
    "    \"\"\"\n",
    "    def __init__(self, d_model, d_ff, dropout):\n",
    "        super(PositionwiseFeedForward, self).__init__()\n",
    "        self.w_1 = nn.Linear(d_model, d_ff)\n",
    "        self.w_2 = nn.Linear(d_ff, d_model)\n",
    "        self.dropout = nn.Dropout(dropout)\n",
    "    \n",
    "    def forward(self, x):\n",
    "        \"\"\"\n",
    "        params:\n",
    "            x: output from the attention layer, shape: (batch, sent_len, d_model)\n",
    "        returns:\n",
    "            x: processed x, shape: (batch, sent_len, d_model)\n",
    "        \"\"\"\n",
    "        return self.w_2(self.dropout(F.relu(self.w_1(x))))"
   ]
  },
  {
   "cell_type": "markdown",
   "metadata": {},
   "source": [
    "## 4.2 EncoderDecoder wrapper"
   ]
  },
  {
   "cell_type": "code",
   "execution_count": 15,
   "metadata": {},
   "outputs": [],
   "source": [
    "class EncoderDecoder(nn.Module):\n",
    "    \n",
    "    def __init__(self, encoder, decoder, src_embed, tgt_embed, generator):\n",
    "        super(EncoderDecoder, self).__init__()\n",
    "        self.encoder = encoder\n",
    "        self.decoder = decoder\n",
    "        self.src_embed = src_embed\n",
    "        self.tgt_embed = tgt_embed\n",
    "        self.generator = generator\n",
    "      \n",
    "    def encode(self, src, src_mask):\n",
    "        \"\"\"\n",
    "        params:\n",
    "            src, torch.tensor, shape: (batch, sent_len)\n",
    "            src_mask, torch.tensor, shape: (batch, sent_len)\n",
    "            \n",
    "        returns:\n",
    "            encoded source sentences, torch.tensor, shape: (batch, sent_len, d_model)\n",
    "        \"\"\"\n",
    "        return self.encoder(self.src_embed(src), src_mask)\n",
    "    \n",
    "    def decode(self, memory, src_mask, tgt, tgt_mask):\n",
    "        \"\"\"\n",
    "        params:\n",
    "            memory: torch.tensor, shape (batch, sent_len, d_model)\n",
    "            src_mask: torch.tensor, shape (batch, sent_len)\n",
    "            tgt: torch.tensor, shape (batch, sent_len1)\n",
    "            tgt_mask: torch.tensor, shape (batch, sent_len1, sent_len1)\n",
    "            \n",
    "        returns:\n",
    "            decoded target sentences in the embedding space, torch.tensor, shape: (batch, sent_len1, d_model)        \n",
    "        \"\"\"\n",
    "        return self.decoder(self.tgt_embed(tgt), memory, src_mask, tgt_mask)   \n",
    "\n",
    "    def forward(self, src, tgt, src_mask, tgt_mask):\n",
    "        \"\"\"\n",
    "        params:\n",
    "            src: torch.tensor, shape: (batch, sent_len)\n",
    "            src_mask: torch.tensor, shape: (batch, sent_len)\n",
    "            tgt: torch.tensor, shape: (batch, sent_len1)\n",
    "            tgt_mask: torch.tensor, shape (batch, sent_len1, sent_len1)\n",
    "        \"\"\"\n",
    "        return self.decode(self.encode(src, src_mask), src_mask, tgt, tgt_mask)                "
   ]
  },
  {
   "cell_type": "markdown",
   "metadata": {},
   "source": [
    "## 4.3 Generator"
   ]
  },
  {
   "cell_type": "code",
   "execution_count": 16,
   "metadata": {},
   "outputs": [],
   "source": [
    "class Generator(nn.Module):\n",
    "    \n",
    "    def __init__(self, d_model: int, vocab: int):\n",
    "        \"\"\"\n",
    "        params:\n",
    "            d_model, int, dimension\n",
    "            vocab, int, vocabulary size\n",
    "        \"\"\"\n",
    "        super(Generator, self).__init__()\n",
    "        self.d_model = d_model\n",
    "        self.vocab = vocab\n",
    "        self.proj = nn.Linear(in_features=d_model, out_features=vocab)\n",
    "        \n",
    "    def forward(self, x):\n",
    "        \"\"\"\n",
    "        params:\n",
    "            x: decoded target sentence in the embedding space, shape: (batch, sent_len1, d_model)\n",
    "        returns:\n",
    "            log softmax probabilities, shape: (batch, sent_len1, vocab)\n",
    "        \"\"\"\n",
    "        return F.log_softmax(self.proj(x), dim=-1)"
   ]
  },
  {
   "cell_type": "markdown",
   "metadata": {},
   "source": [
    "## 4.4 Encoder"
   ]
  },
  {
   "cell_type": "code",
   "execution_count": 17,
   "metadata": {},
   "outputs": [],
   "source": [
    "class Encoder(nn.Module):\n",
    "    \"\"\"\n",
    "    Implement the encoder in the Transformer\n",
    "    \"\"\"\n",
    "    def __init__(self, layer, N):\n",
    "        \"\"\"\n",
    "        layer: an EncoderLayer object representing one encoder layer in the Transformer\n",
    "        N: num of repeats, int\n",
    "        \"\"\"\n",
    "        super(Encoder, self).__init__()\n",
    "        self.layers = clones(layer, N)\n",
    "        self.norm = LayerNorm(layer.size)\n",
    "    \n",
    "    def forward(self, x, mask):\n",
    "        \"\"\"\n",
    "        params:\n",
    "            x: embddings of input, shape: (batch, sent_len, d_model)\n",
    "            mask: mask of tokens, shape: (batch, 1, sent_len)\n",
    "        returns:\n",
    "            encoded input, shape: (batch, sent_len, d_model)\n",
    "        \"\"\"\n",
    "        for layer in self.layers:\n",
    "            x = layer(x, mask)\n",
    "        # Question: the original paper doesn't seem to mention layer norm as the final step\n",
    "        return self.norm(x)        "
   ]
  },
  {
   "cell_type": "code",
   "execution_count": 18,
   "metadata": {},
   "outputs": [],
   "source": [
    "class EncoderLayer(nn.Module):\n",
    "    \"\"\"\n",
    "    Implement one encoder layer in the Transformer\n",
    "    \"\"\"\n",
    "    def __init__(self, size, self_attn, feed_forward, dropout):\n",
    "        \"\"\"\n",
    "        params:\n",
    "            size: dimenion of the input, int\n",
    "            self_attn: self-attention layer, an nn.Module\n",
    "            feed_forward: a feed_forward layer, an nn.Module\n",
    "            dropout: dropout percentage, float\n",
    "        \"\"\"\n",
    "        super(EncoderLayer, self).__init__()\n",
    "        self.size = size\n",
    "        self.self_attn = self_attn\n",
    "        self.feed_forward = feed_forward\n",
    "        self.sublayer = clones(SublayerConnection(size, dropout), 2)\n",
    "        \n",
    "    def forward(self, x, mask):\n",
    "        \"\"\"\n",
    "        params:\n",
    "            x: embddings of input, shape: (batch, sent_len, d_model)\n",
    "            mask: mask of tokens, shape: (batch, 1, sent_len)\n",
    "        \"\"\"\n",
    "        x = self.sublayer[0](x, lambda x1: self.self_attn(x1, x1, x1, mask))\n",
    "        return self.sublayer[1](x, self.feed_forward)"
   ]
  },
  {
   "cell_type": "markdown",
   "metadata": {},
   "source": [
    "## 4.5 Decoder"
   ]
  },
  {
   "cell_type": "code",
   "execution_count": 19,
   "metadata": {},
   "outputs": [],
   "source": [
    "class Decoder(nn.Module):\n",
    "    \"\"\"\n",
    "    Implement the decoder in the Transformer\n",
    "    \"\"\"\n",
    "    def __init__(self, layer, N):\n",
    "        super(Decoder, self).__init__()\n",
    "        self.layers = clones(layer, N)\n",
    "        self.norm = LayerNorm(layer.size)\n",
    "        \n",
    "    def forward(self, y, memory, src_mask, tgt_mask):\n",
    "        \"\"\"\n",
    "        params:\n",
    "            y: embeddings of target sentences, shape: (batch, sent_len1, d_model)\n",
    "            memory: encoded source sentences, shape: (batch, sent_len, d_model)\n",
    "            src_mask: source sentences mask, shape: (batch, 1, sent_len)\n",
    "            tgt_mask: target sentences mask, shape: (batch, sent_len1, sent_len1)\n",
    "        returns:\n",
    "            decoded target sentences, shape: (batch, sent_len1, d_model)\n",
    "        \"\"\"\n",
    "        for layer in self.layers:\n",
    "            y = layer(y, memory, src_mask, tgt_mask)\n",
    "        # Question: the original paper doesn't seem to mention layer norm as the final step            \n",
    "        return self.norm(y)"
   ]
  },
  {
   "cell_type": "code",
   "execution_count": 20,
   "metadata": {},
   "outputs": [],
   "source": [
    "class DecoderLayer(nn.Module):\n",
    "    \"\"\"\n",
    "    Implement a decoder layer in the Transformer\n",
    "    \"\"\"\n",
    "    def __init__(self, size, self_attn, src_attn, feed_forward, dropout):\n",
    "        \"\"\"\n",
    "        self_attn: self-attention layer attending to the target sentence, an nn.Module\n",
    "        src_attn: cross-attention layer attending to the source sentence, an nn.Module\n",
    "        feed_forward: position-wise feed-forward layer, an nn.Module\n",
    "        size: size of the input, int, set to d_model in practice\n",
    "        dropout: dropout rate used in the sublayer connection, float\n",
    "        \"\"\"\n",
    "        super(DecoderLayer, self).__init__()\n",
    "        self.size = size        \n",
    "        self.self_attn = self_attn\n",
    "        self.src_attn = src_attn\n",
    "        self.feed_forward = feed_forward\n",
    "        self.sublayers = clones(SublayerConnection(size, dropout), 3)\n",
    "        \n",
    "    def forward(self, y, memory, src_mask, tgt_mask):\n",
    "        \"\"\"\n",
    "        params:\n",
    "            y: embeddings of target sentences, shape: (batch, sent_len1, d_model)\n",
    "            memory: encoded source sentences, shape: (batch, sent_len, d_model)\n",
    "            src_mask: source sentences mask, shape: (batch, 1, sent_len)\n",
    "            tgt_mask: target sentences mask, shape: (batch, sent_len1, sent_len1)\n",
    "        returns:\n",
    "            decoded target sentences, shape: (batch, sent_len1, d_model)\n",
    "        \"\"\"\n",
    "        y = self.sublayers[0](y, lambda y1: self.self_attn(y1, y1, y1, tgt_mask))\n",
    "        y = self.sublayers[1](y, lambda y1: self.src_attn(y1, memory, memory, src_mask))\n",
    "        y = self.sublayers[2](y, self.feed_forward)\n",
    "        return y"
   ]
  },
  {
   "cell_type": "markdown",
   "metadata": {},
   "source": [
    "## 4.6 Attention"
   ]
  },
  {
   "cell_type": "code",
   "execution_count": 21,
   "metadata": {},
   "outputs": [],
   "source": [
    "def attention(query, key, value, mask=None, dropout=None):\n",
    "    \"\"\"\n",
    "    params:\n",
    "        query: tensor, shape: (batch, h, sent_len, d_k)\n",
    "        key: tensor, shape: (batch, h, sent_len, d_k)\n",
    "        value: tensor, shape: (batch, h, sent_len, d_k)\n",
    "    returns:\n",
    "        x: weighted values based on the attention mechanism, shape: (batch, h, sent_len, d_k)\n",
    "        p_attn: (batch, h, sent_len, d_k)\n",
    "        \n",
    "    General notes:    \n",
    "        Note 1:\n",
    "            Q: (N_q, d_k)    \n",
    "            K: (N_k, d_k)\n",
    "            V: (N_k, d_v)\n",
    "\n",
    "            QK^T: (N_q, N_k)\n",
    "            softmax(QK^T, dim=-1): (N_q, N_k)\n",
    "            matmul(softmax(QK^T, dim=-1), V): (N_q, d_v)\n",
    "            \n",
    "        Note 2:    \n",
    "            For single-headed attention:\n",
    "                input: query, key, value: (batch, sent_len, d_model)\n",
    "                output: x: (batch, sent_len, d_model)\n",
    "\n",
    "            For multi-headed attention:\n",
    "                query, key, value: (batch, h, sent_len, d_k), where d_k = d_model // h\n",
    "                output: (batch, h, sent_len, d_k)            \n",
    "    \"\"\"     \n",
    "    d_k = query.size(-1)\n",
    "    scores = torch.matmul(query, key.transpose(-2, -1)) / math.sqrt(d_k)  # (batch, h, N_q, N_k)\n",
    "    \n",
    "    if mask is not None:\n",
    "        scores = scores.masked_fill(mask == 0, -1e9)\n",
    "    p_attn = F.softmax(scores, dim=-1)  # (batch, h, N_q, N_k)\n",
    "    \n",
    "    # Question: the original paper did not have this \n",
    "    if dropout is not None:\n",
    "        p_attn = dropout(p_attn)\n",
    "        \n",
    "    x = torch.matmul(p_attn, value)  # (batch, h, N_q, d_v)\n",
    "    return x, p_attn\n",
    "         "
   ]
  },
  {
   "cell_type": "code",
   "execution_count": 22,
   "metadata": {},
   "outputs": [],
   "source": [
    "class MultiHeadedAttention(nn.Module):\n",
    "    \"\"\"\n",
    "    Implement a muti-headed attention layer in the transformer\n",
    "    \"\"\"\n",
    "    def __init__(self, h, d_model, dropout=0.1):\n",
    "        super(MultiHeadedAttention, self).__init__()\n",
    "        assert d_model % 8 == 0\n",
    "        self.d_k = d_model // h        \n",
    "        self.h = h\n",
    "        self.linears = clones(nn.Linear(d_model, d_model), 4)\n",
    "        self.attn = None\n",
    "        self.dropout = nn.Dropout(dropout)\n",
    "        \n",
    "    def forward(self, query, key, value, mask=None):\n",
    "        \"\"\"\n",
    "        params:\n",
    "            query: tensor, shape: (batch, sent_len, d_model)\n",
    "            key: tensor, shape: (batch, sent_len, d_model)\n",
    "            value: tensor, shape: (batch, sent_len, d_model)\n",
    "        returns:\n",
    "            x: weighted values based on the attention mechanism, shape: (batch, sent_len, d_model)\n",
    "        \"\"\"\n",
    "        if mask is not None:\n",
    "            # same mask applied to all h heads\n",
    "            mask = mask.unsqueeze(1)\n",
    "        \n",
    "        nbatches = query.size(0)\n",
    "        \n",
    "        # 1) Do all the linear projections in batch from d_model => h x d_k\n",
    "        \"\"\"\n",
    "        l: W_q, W_k, or W_v, which is nn.Linear(d_model, h * d_k)\n",
    "        x: query, key, value: (batch, sent_len, d_model)\n",
    "        \n",
    "        l(x): (batch, sent_len, h * d_k)\n",
    "        l(x).view(batch, -1, h, d_k).transpose(1,2): (batch, h, sent_len, d_k)\n",
    "        \"\"\"\n",
    "        query, key, value = [l(x).view(nbatches, -1, self.h, self.d_k).transpose(1, 2) \n",
    "                             for l, x in zip(self.linears, (query, key, value))]\n",
    "        \n",
    "        # 2) Apply attention on all the projected vectors in batch\n",
    "        x, self.attn = attention(query, key, value, mask, dropout=self.dropout)\n",
    "        # x: (batch, h, sent_len, d_k)\n",
    "        \n",
    "        # 3) Concate all the heads \n",
    "        x = x.transpose(1, 2).contiguous().view(nbatches, -1, self.h * self.d_k)\n",
    "        return self.linears[-1](x)\n",
    "        "
   ]
  },
  {
   "cell_type": "markdown",
   "metadata": {},
   "source": [
    "# 5. Building a Transformer model"
   ]
  },
  {
   "cell_type": "code",
   "execution_count": 23,
   "metadata": {},
   "outputs": [],
   "source": [
    "def make_model(src_vocab, tgt_vocab, N=6, d_model=512, d_ff=2048, h=8, dropout=0.1):\n",
    "    model = EncoderDecoder(\n",
    "        Encoder(\n",
    "            EncoderLayer(\n",
    "                d_model,\n",
    "                MultiHeadedAttention(h, d_model, dropout),\n",
    "                PositionwiseFeedForward(d_model, d_ff, dropout),\n",
    "                dropout                                \n",
    "            ),\n",
    "            N\n",
    "        ),\n",
    "        Decoder(\n",
    "            DecoderLayer(\n",
    "                d_model,\n",
    "                MultiHeadedAttention(h, d_model),\n",
    "                MultiHeadedAttention(h, d_model),\n",
    "                PositionwiseFeedForward(d_model, d_ff, dropout),\n",
    "                dropout                                \n",
    "            ),\n",
    "            N\n",
    "        ),\n",
    "        nn.Sequential(Embeddings(d_model, src_vocab), PositionalEncoding(d_model, dropout)),\n",
    "        nn.Sequential(Embeddings(d_model, tgt_vocab), PositionalEncoding(d_model, dropout)),\n",
    "        Generator(d_model, tgt_vocab)        \n",
    "    )\n",
    "    \n",
    "    for p in model.parameters():\n",
    "        if p.dim() > 1:\n",
    "            nn.init.xavier_uniform(p)\n",
    "    \n",
    "    return model\n"
   ]
  },
  {
   "cell_type": "markdown",
   "metadata": {},
   "source": [
    "# 6. Training utilities"
   ]
  },
  {
   "cell_type": "markdown",
   "metadata": {},
   "source": [
    "## 6.1 Training loop"
   ]
  },
  {
   "cell_type": "code",
   "execution_count": 24,
   "metadata": {},
   "outputs": [],
   "source": [
    "def run_epoch(data_iter, model, loss_compute):\n",
    "    start = time.time()\n",
    "    total_loss = 0    \n",
    "    total_tokens = 0\n",
    "    tokens = 0\n",
    "    for i, batch in enumerate(data_iter):\n",
    "        out = model.forward(batch.src, batch.trg, batch.src_mask, batch.trg_mask)\n",
    "        loss = loss_compute(out, batch.trg_y, batch.ntokens)\n",
    "\n",
    "        total_loss += loss                \n",
    "        total_tokens += batch.ntokens\n",
    "        tokens += batch.ntokens\n",
    "        if i % 50 == 1:\n",
    "            elapsed = time.time() - start\n",
    "            print(f'Epoch step: {i}, Loss: {loss / batch.ntokens}, Tokens per Sec: {tokens / elapsed}')\n",
    "            tokens = 0            \n",
    "            start = time.time()\n",
    "    return total_loss / total_tokens"
   ]
  },
  {
   "cell_type": "markdown",
   "metadata": {},
   "source": [
    "## 6.2 Optimizer and Scheduler"
   ]
  },
  {
   "cell_type": "code",
   "execution_count": 25,
   "metadata": {},
   "outputs": [],
   "source": [
    "class NoamOpt:\n",
    "    \"\"\"\n",
    "    Implement the Noam scheduler that wrapper an optimizer\n",
    "    \"\"\"\n",
    "    def __init__(self, model_size, factor, warmup, optimizer):\n",
    "        self.model_size = model_size\n",
    "        self.factor = factor\n",
    "        self.warmup = warmup\n",
    "        self.optimizer = optimizer\n",
    "        self._step = 0\n",
    "        self._rate = 0\n",
    "        \n",
    "    def rate(self, step=None):\n",
    "        if step is None:\n",
    "            step = self._step\n",
    "        return self.factor * (self.model_size ** (-0.5) * min(step ** (-0.5), step * self.warmup ** (-1.5)))\n",
    "    \n",
    "    def step(self):\n",
    "        self._step += 1\n",
    "        lr = self.rate()\n",
    "        self._rate = lr\n",
    "        for p in self.optimizer.param_groups:\n",
    "            p['lr'] = lr\n",
    "        self.optimizer.step()\n",
    "        "
   ]
  },
  {
   "cell_type": "code",
   "execution_count": 26,
   "metadata": {},
   "outputs": [],
   "source": [
    "def get_std_opt(model):\n",
    "    return NoamOpt(model.src_embed[0].d_model, 2, 4000,\n",
    "                   torch.optim.Adam(model.parameters(), lr=0, betas=(0.9, 0.98), eps=1e-9)\n",
    "                  )"
   ]
  },
  {
   "cell_type": "markdown",
   "metadata": {},
   "source": [
    "## 6.3 Label smoothing"
   ]
  },
  {
   "cell_type": "code",
   "execution_count": 27,
   "metadata": {},
   "outputs": [],
   "source": [
    "class LabelSmoothing(nn.Module):\n",
    "    \"\"\"\n",
    "    Implement label smoothing\n",
    "    \"\"\"\n",
    "    def __init__(self, size, padding_idx=0, smoothing=0.0):\n",
    "        \"\"\"\n",
    "        params:\n",
    "            size: size of the vocabulary, int\n",
    "            padding_idx: padding index, int\n",
    "            smoothing: smoothing factor, float\n",
    "        \"\"\"\n",
    "        super(LabelSmoothing, self).__init__()\n",
    "        self.size = size\n",
    "        self.padding_idx = padding_idx\n",
    "        self.smoothing = smoothing\n",
    "        self.confidence = 1.0 - smoothing\n",
    "        self.criterion = nn.KLDivLoss(size_average=False)\n",
    "        self.true_dist = None\n",
    "        \n",
    "    def forward(self, x, target):\n",
    "        \"\"\"\n",
    "        params:\n",
    "            x: log-probabilities, tensor, shape: (batch * tgt_sent_len, vocab_size)\n",
    "            target: indices of the target tokens, tensor, shape: (batch * tgt_sent_len, vocab_len)\n",
    "        return:\n",
    "            KL-divergence loss between the model output probabilities and the smoothed true probabilities\n",
    "        \"\"\"\n",
    "        assert x.size(1) == self.size\n",
    "        true_dist = x.data.clone()\n",
    "        true_dist.fill_(self.smoothing / (self.size - 2))\n",
    "        true_dist.scatter_(1, target.data.unsqueeze(1), self.confidence)\n",
    "        true_dist[:, self.padding_idx] = 0\n",
    "        mask = torch.nonzero(target.data == self.padding_idx)\n",
    "        if mask.dim() > 0:\n",
    "            true_dist.index_fill_(0, mask.squeeze(), 0.0)\n",
    "        self.true_dist = true_dist\n",
    "        return self.criterion(x, Variable(true_dist, requires_grad=False))        "
   ]
  },
  {
   "cell_type": "markdown",
   "metadata": {},
   "source": [
    "## 6.4 Loss Computation"
   ]
  },
  {
   "cell_type": "code",
   "execution_count": 28,
   "metadata": {},
   "outputs": [],
   "source": [
    "class SimpleLossCompute:\n",
    "    \"\"\"\n",
    "    A wrapper of generator, KL-divergence criterion with label smoothing, and NoamOpt (optional)\n",
    "    \"\"\"\n",
    "    def __init__(self, generator, criterion, opt=None):\n",
    "        self.generator = generator\n",
    "        self.criterion = criterion\n",
    "        self.opt = opt\n",
    "    \n",
    "    def __call__(self, x, y, norm):\n",
    "        \"\"\"\n",
    "        params:\n",
    "            x: embedded target sentences, tensor, shape: (batch, tgt_sent_len, d_model)\n",
    "            y: true target sentences, tensor, shape: (batch, tgt_sent_len)\n",
    "        return:\n",
    "            total loss, float\n",
    "        \"\"\"\n",
    "        x = self.generator(x)\n",
    "        loss = self.criterion(x.contiguous().view(-1, x.size(-1)),\n",
    "                              y.contiguous().view(-1)\n",
    "                             ) / norm\n",
    "        loss.backward()\n",
    "        if self.opt is not None:\n",
    "            self.opt.step()\n",
    "            self.opt.optimizer.zero_grad()\n",
    "        return loss.item() * norm"
   ]
  },
  {
   "cell_type": "markdown",
   "metadata": {},
   "source": [
    "# Part II. Training "
   ]
  },
  {
   "cell_type": "markdown",
   "metadata": {},
   "source": [
    "# 1. Train a simple copy task "
   ]
  },
  {
   "cell_type": "markdown",
   "metadata": {},
   "source": [
    "## 1.1 training a model"
   ]
  },
  {
   "cell_type": "code",
   "execution_count": 29,
   "metadata": {},
   "outputs": [
    {
     "name": "stdout",
     "output_type": "stream",
     "text": [
      "Epoch step: 1, Loss: 2.6852035522460938, Tokens per Sec: 771.4193725585938\n",
      "Epoch step: 1, Loss: 1.6924911737442017, Tokens per Sec: 1001.3639526367188\n",
      "tensor(1.6462)\n",
      "Epoch step: 1, Loss: 1.723552942276001, Tokens per Sec: 713.389404296875\n",
      "Epoch step: 1, Loss: 1.4428123235702515, Tokens per Sec: 856.1842651367188\n",
      "tensor(1.4456)\n",
      "Epoch step: 1, Loss: 1.6433860063552856, Tokens per Sec: 761.352783203125\n",
      "Epoch step: 1, Loss: 1.1810276508331299, Tokens per Sec: 952.20263671875\n",
      "tensor(1.1986)\n",
      "Epoch step: 1, Loss: 1.5336004495620728, Tokens per Sec: 742.3085327148438\n",
      "Epoch step: 1, Loss: 1.0662708282470703, Tokens per Sec: 935.1001586914062\n",
      "tensor(1.0062)\n",
      "Epoch step: 1, Loss: 1.1117819547653198, Tokens per Sec: 672.2886352539062\n",
      "Epoch step: 1, Loss: 0.5911529064178467, Tokens per Sec: 805.4971313476562\n",
      "tensor(0.5955)\n",
      "Epoch step: 1, Loss: 0.9078608751296997, Tokens per Sec: 623.6346435546875\n",
      "Epoch step: 1, Loss: 0.5403550863265991, Tokens per Sec: 841.24560546875\n",
      "tensor(0.5284)\n",
      "Epoch step: 1, Loss: 0.7015924453735352, Tokens per Sec: 659.853515625\n",
      "Epoch step: 1, Loss: 0.19488127529621124, Tokens per Sec: 763.6176147460938\n",
      "tensor(0.2134)\n",
      "Epoch step: 1, Loss: 0.3315317630767822, Tokens per Sec: 649.5985107421875\n",
      "Epoch step: 1, Loss: 0.16591714322566986, Tokens per Sec: 829.7670288085938\n",
      "tensor(0.2072)\n",
      "Epoch step: 1, Loss: 0.8711574673652649, Tokens per Sec: 639.4678955078125\n",
      "Epoch step: 1, Loss: 0.19887395203113556, Tokens per Sec: 819.5512084960938\n",
      "tensor(0.1835)\n",
      "Epoch step: 1, Loss: 0.3622101843357086, Tokens per Sec: 640.1062622070312\n",
      "Epoch step: 1, Loss: 0.22768816351890564, Tokens per Sec: 794.0553588867188\n",
      "tensor(0.2122)\n"
     ]
    }
   ],
   "source": [
    "V = 11\n",
    "criterion = LabelSmoothing(V, -1, smoothing=0.0)  # 0 is the index for BOS, V is the index for EOS\n",
    "model = make_model(V, V, N=2)\n",
    "model_opt = NoamOpt(model.src_embed[0].d_model, 1, 400, \n",
    "                   torch.optim.Adam(model.parameters(), lr=0, betas=(0.9, 0.98), eps=1e-9))\n",
    "\n",
    "for epoch in range(10):\n",
    "    model.train()\n",
    "    run_epoch(data_generator(V, 30, 20), model, SimpleLossCompute(model.generator, criterion, model_opt))\n",
    "    \n",
    "    model.eval()\n",
    "    print(run_epoch(data_generator(V, 30, 5), model, SimpleLossCompute(model.generator, criterion, None)))    "
   ]
  },
  {
   "cell_type": "markdown",
   "metadata": {},
   "source": [
    "## 1.2 Inference"
   ]
  },
  {
   "cell_type": "code",
   "execution_count": 32,
   "metadata": {},
   "outputs": [],
   "source": [
    "def greedy_decode(model, src, src_mask, max_len, start_symbol=0):\n",
    "    \"\"\"\n",
    "    params:\n",
    "        model: a trained EncoderDecoder model\n",
    "        src: input sentence, shape: (batch, src_sent_len)\n",
    "        src_mask: mask of the input sentence, shape: (batch, 1, src_sent_len)\n",
    "        max_len: max output length, int\n",
    "        start_symbol: index of the BOS token\n",
    "    return\n",
    "        decoded sentence, shape: (batch, max_len)\n",
    "    \"\"\"\n",
    "    memory = model.encode(src, src_mask)\n",
    "    ys = torch.zeros((src.size(0), 1)).fill_(start_symbol).type_as(src.data)\n",
    "    for i in range(max_len):\n",
    "        tgt_mask = Batch.make_std_mask(ys, -1)        \n",
    "        out = model.decode(\n",
    "            memory, \n",
    "            src_mask, \n",
    "            Variable(ys), \n",
    "            tgt_mask\n",
    "        ) # (batch, len, d_model)\n",
    "        #prob = model.generator(out)[:, -1, :]\n",
    "        prob = model.generator(out[:, -1, :])  # shape: (batch, V)\n",
    "        _, next_token = torch.max(prob, dim=1)  # shape: (batch, )\n",
    "        ys = torch.cat([ys, next_token.view(-1, 1)], dim=1) \n",
    "    return ys\n"
   ]
  },
  {
   "cell_type": "code",
   "execution_count": 33,
   "metadata": {},
   "outputs": [
    {
     "name": "stdout",
     "output_type": "stream",
     "text": [
      "tensor([[0, 1, 2, 3, 4, 5, 6, 7, 8, 9, 9, 9, 9, 8]])\n"
     ]
    }
   ],
   "source": [
    "model.eval()\n",
    "src = Variable(torch.LongTensor([[1, 2, 3, 4, 5, 6, 7, 8, 9]]) )\n",
    "src_mask = Variable(torch.ones(src.size(0), 1, src.size(1)))\n",
    "print(greedy_decode(model, src, src_mask, 13, 0))"
   ]
  },
  {
   "cell_type": "markdown",
   "metadata": {},
   "source": [
    "# Appendix: steps to implement label smoothing"
   ]
  },
  {
   "cell_type": "code",
   "execution_count": 35,
   "metadata": {},
   "outputs": [
    {
     "data": {
      "text/plain": [
       "tensor([[0., 0., 0., 0., 0.],\n",
       "        [0., 0., 0., 0., 0.],\n",
       "        [0., 0., 0., 0., 0.],\n",
       "        [0., 0., 0., 0., 0.],\n",
       "        [0., 0., 0., 0., 0.],\n",
       "        [0., 0., 0., 0., 0.],\n",
       "        [0., 0., 0., 0., 0.]])"
      ]
     },
     "execution_count": 35,
     "metadata": {},
     "output_type": "execute_result"
    }
   ],
   "source": [
    "V = 5\n",
    "padding_idx = 1 \n",
    "smoothing = 0.3\n",
    "confidence = 1 - smoothing\n",
    "\n",
    "\n",
    "target = torch.from_numpy(np.array([3, 0, 1, 2, 4, 2, 1]))\n",
    "\n",
    "x = torch.rand((target.size(0), V))\n",
    "\n",
    "\n",
    "true_dist = torch.zeros((target.size(0), V))\n",
    "true_dist"
   ]
  },
  {
   "cell_type": "code",
   "execution_count": 36,
   "metadata": {},
   "outputs": [
    {
     "data": {
      "text/plain": [
       "tensor([[0.1000, 0.1000, 0.1000, 0.1000, 0.1000],\n",
       "        [0.1000, 0.1000, 0.1000, 0.1000, 0.1000],\n",
       "        [0.1000, 0.1000, 0.1000, 0.1000, 0.1000],\n",
       "        [0.1000, 0.1000, 0.1000, 0.1000, 0.1000],\n",
       "        [0.1000, 0.1000, 0.1000, 0.1000, 0.1000],\n",
       "        [0.1000, 0.1000, 0.1000, 0.1000, 0.1000],\n",
       "        [0.1000, 0.1000, 0.1000, 0.1000, 0.1000]])"
      ]
     },
     "execution_count": 36,
     "metadata": {},
     "output_type": "execute_result"
    }
   ],
   "source": [
    "# Assign smoothing probabilities to entries corresponding to \"incorrect\" tokens\n",
    "true_dist.fill_(smoothing / (V-2))  # 1 for the correct token, 1 for the padding index\n",
    "true_dist"
   ]
  },
  {
   "cell_type": "code",
   "execution_count": 37,
   "metadata": {},
   "outputs": [
    {
     "data": {
      "text/plain": [
       "tensor([[0.1000, 0.1000, 0.1000, 0.7000, 0.1000],\n",
       "        [0.7000, 0.1000, 0.1000, 0.1000, 0.1000],\n",
       "        [0.1000, 0.7000, 0.1000, 0.1000, 0.1000],\n",
       "        [0.1000, 0.1000, 0.7000, 0.1000, 0.1000],\n",
       "        [0.1000, 0.1000, 0.1000, 0.1000, 0.7000],\n",
       "        [0.1000, 0.1000, 0.7000, 0.1000, 0.1000],\n",
       "        [0.1000, 0.7000, 0.1000, 0.1000, 0.1000]])"
      ]
     },
     "execution_count": 37,
     "metadata": {},
     "output_type": "execute_result"
    }
   ],
   "source": [
    "# Assign the smoothed probabilities to the true tokens\n",
    "true_dist.scatter_(1, target.data.unsqueeze(1), confidence)\n",
    "true_dist"
   ]
  },
  {
   "cell_type": "code",
   "execution_count": 38,
   "metadata": {},
   "outputs": [
    {
     "data": {
      "text/plain": [
       "tensor([[0.1000, 0.0000, 0.1000, 0.7000, 0.1000],\n",
       "        [0.7000, 0.0000, 0.1000, 0.1000, 0.1000],\n",
       "        [0.1000, 0.0000, 0.1000, 0.1000, 0.1000],\n",
       "        [0.1000, 0.0000, 0.7000, 0.1000, 0.1000],\n",
       "        [0.1000, 0.0000, 0.1000, 0.1000, 0.7000],\n",
       "        [0.1000, 0.0000, 0.7000, 0.1000, 0.1000],\n",
       "        [0.1000, 0.0000, 0.1000, 0.1000, 0.1000]])"
      ]
     },
     "execution_count": 38,
     "metadata": {},
     "output_type": "execute_result"
    }
   ],
   "source": [
    "# Zero out the column of the padding index \n",
    "true_dist[:, padding_idx] = 0\n",
    "true_dist"
   ]
  },
  {
   "cell_type": "code",
   "execution_count": 39,
   "metadata": {},
   "outputs": [
    {
     "data": {
      "text/plain": [
       "tensor([[2],\n",
       "        [6]])"
      ]
     },
     "execution_count": 39,
     "metadata": {},
     "output_type": "execute_result"
    }
   ],
   "source": [
    "# Zero out the rows corresponding to the padding tokens\n",
    "mask = torch.nonzero(target.data == padding_idx)\n",
    "mask"
   ]
  },
  {
   "cell_type": "code",
   "execution_count": 40,
   "metadata": {},
   "outputs": [
    {
     "data": {
      "text/plain": [
       "tensor([2, 6])"
      ]
     },
     "execution_count": 40,
     "metadata": {},
     "output_type": "execute_result"
    }
   ],
   "source": [
    "mask.squeeze()"
   ]
  },
  {
   "cell_type": "code",
   "execution_count": 41,
   "metadata": {},
   "outputs": [
    {
     "name": "stdout",
     "output_type": "stream",
     "text": [
      "2\n"
     ]
    },
    {
     "data": {
      "text/plain": [
       "tensor([[0.1000, 0.0000, 0.1000, 0.7000, 0.1000],\n",
       "        [0.7000, 0.0000, 0.1000, 0.1000, 0.1000],\n",
       "        [0.0000, 0.0000, 0.0000, 0.0000, 0.0000],\n",
       "        [0.1000, 0.0000, 0.7000, 0.1000, 0.1000],\n",
       "        [0.1000, 0.0000, 0.1000, 0.1000, 0.7000],\n",
       "        [0.1000, 0.0000, 0.7000, 0.1000, 0.1000],\n",
       "        [0.0000, 0.0000, 0.0000, 0.0000, 0.0000]])"
      ]
     },
     "execution_count": 41,
     "metadata": {},
     "output_type": "execute_result"
    }
   ],
   "source": [
    "if mask.dim() > 0:\n",
    "    print(mask.dim())\n",
    "    true_dist.index_fill_(0, mask.squeeze(), 0.0)\n",
    "true_dist    "
   ]
  },
  {
   "cell_type": "code",
   "execution_count": 42,
   "metadata": {},
   "outputs": [],
   "source": [
    "# Noticce that when calculating KL divergence using nn.KLDivLoss, the zero-entries will be skipped \n",
    "# \n",
    "# The following two are equivalent\n",
    "# criterion = nn.KLDivLoss(size_average=False)\n",
    "criterion = nn.KLDivLoss(reduction='sum')"
   ]
  },
  {
   "cell_type": "code",
   "execution_count": 43,
   "metadata": {},
   "outputs": [
    {
     "data": {
      "text/plain": [
       "tensor(-7.7822)"
      ]
     },
     "execution_count": 43,
     "metadata": {},
     "output_type": "execute_result"
    }
   ],
   "source": [
    "criterion(x, Variable(true_dist, requires_grad=False))"
   ]
  },
  {
   "cell_type": "code",
   "execution_count": null,
   "metadata": {},
   "outputs": [],
   "source": []
  }
 ],
 "metadata": {
  "kernelspec": {
   "display_name": "Python 3",
   "language": "python",
   "name": "python3"
  },
  "language_info": {
   "codemirror_mode": {
    "name": "ipython",
    "version": 3
   },
   "file_extension": ".py",
   "mimetype": "text/x-python",
   "name": "python",
   "nbconvert_exporter": "python",
   "pygments_lexer": "ipython3",
   "version": "3.7.3"
  }
 },
 "nbformat": 4,
 "nbformat_minor": 4
}
