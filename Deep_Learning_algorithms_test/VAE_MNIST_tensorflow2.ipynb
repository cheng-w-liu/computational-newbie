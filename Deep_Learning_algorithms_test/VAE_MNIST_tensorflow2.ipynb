{
 "cells": [
  {
   "cell_type": "code",
   "execution_count": 3,
   "metadata": {},
   "outputs": [],
   "source": [
    "import tensorflow as tf\n",
    "from tensorflow import keras\n",
    "from tensorflow.keras import layers\n",
    "from typing import Tuple"
   ]
  },
  {
   "cell_type": "code",
   "execution_count": 2,
   "metadata": {},
   "outputs": [
    {
     "data": {
      "text/plain": [
       "'2.4.0'"
      ]
     },
     "execution_count": 2,
     "metadata": {},
     "output_type": "execute_result"
    }
   ],
   "source": [
    "tf.__version__"
   ]
  },
  {
   "cell_type": "markdown",
   "metadata": {},
   "source": [
    "# Part I: Model"
   ]
  },
  {
   "cell_type": "code",
   "execution_count": 14,
   "metadata": {},
   "outputs": [],
   "source": [
    "class Sampler(layers.Layer):\n",
    "    \"\"\"\n",
    "    Implement the sampling layer in the Variational Auto-Encoder model\n",
    "    \n",
    "    Use (z_mean, z_log_var) to sample z\n",
    "    \n",
    "    z = mean + sigma * epsilon\n",
    "    \"\"\"\n",
    "    def call(self, inputs: Tuple[tf.Tensor, tf.Tensor]) -> tf.Tensor:\n",
    "        \"\"\"\n",
    "        params:\n",
    "            inputs: a tuple of z_mean, z_log_var\n",
    "              z_mean: tensor, shape: (batch, latent_dim)\n",
    "              z_log_var: tensor, shape: (batch, latent_dim)\n",
    "        retursn:\n",
    "            sampled hidden variable z: (batch, latent_dim)\n",
    "        \"\"\"\n",
    "        z_mean, z_log_var = inputs\n",
    "        batch = tf.shape(z_mean)[0]\n",
    "        dim = tf.shape(z_mean)[1]\n",
    "        epsilon = tf.keras.backend.random_normal(shape=(batch, dim))\n",
    "        return z_mean + tf.exp(0.5 * z_log_var) * epsilon\n",
    "                "
   ]
  },
  {
   "cell_type": "code",
   "execution_count": 31,
   "metadata": {},
   "outputs": [],
   "source": [
    "class Encoder(layers.Layer):\n",
    "    \"\"\"\n",
    "    Implement the Encoder layer in the Variational Auto-Encoder model    \n",
    "    \"\"\"\n",
    "    def __init__(self, intermediate_dim=64, latent_dim=32, name='encoder', **kwargs):\n",
    "        super(Encoder, self).__init__(name=name, **kwargs)\n",
    "        self.dense_proj = layers.Dense(intermediate_dim, activation='relu')\n",
    "        self.dense_mean = layers.Dense(latent_dim)\n",
    "        self.dense_log_var = layers.Dense(latent_dim)\n",
    "        self.sampler = Sampler()\n",
    "        \n",
    "    def call(self, inputs: tf.Tensor) -> Tuple[tf.Tensor, tf.Tensor, tf.Tensor]:\n",
    "        \"\"\"\n",
    "        params:\n",
    "            inputs: input data, shape: (batch, original_dim)\n",
    "        returns:            \n",
    "            z_mean, z_log_var, z\n",
    "              z_mean: shape: (batch, latent_dim)\n",
    "              z_log_var: shape: (batch, latent_dim)\n",
    "              z: shape: (batch, latent_dim)\n",
    "        \"\"\"\n",
    "        x = self.dense_proj(inputs)\n",
    "        z_mean = self.dense_mean(x)\n",
    "        z_log_var = self.dense_log_var(x)\n",
    "        z = self.sampler((z_mean, z_log_var))\n",
    "        return z_mean, z_log_var, z\n",
    "    "
   ]
  },
  {
   "cell_type": "code",
   "execution_count": 32,
   "metadata": {},
   "outputs": [],
   "source": [
    "class Decoder(layers.Layer):\n",
    "    \"\"\"\n",
    "    Implement the Decoder layer in the Variational Auto-Encoder model\n",
    "    \"\"\"\n",
    "    def __init__(self, original_dim, intermediate_dim=64, name='decoder', **kwargs):\n",
    "        super(Decoder, self).__init__(name=name, **kwargs)\n",
    "        self.dense_proj = layers.Dense(intermediate_dim, activation='relu')\n",
    "        self.dense_output = layers.Dense(original_dim, activation='sigmoid')\n",
    "        \n",
    "    def call(self, inputs: tf.Tensor) -> tf.Tensor:\n",
    "        \"\"\"\n",
    "        params:\n",
    "            inputs: encoded input, shape: (batch, latent_dim)\n",
    "        returns:\n",
    "            reconstructed input, shape: (batch, original_dim)\n",
    "        \"\"\"\n",
    "        x = self.dense_proj(inputs)\n",
    "        return self.dense_output(x)\n",
    "    "
   ]
  },
  {
   "cell_type": "code",
   "execution_count": 33,
   "metadata": {},
   "outputs": [],
   "source": [
    "class VariationalAutoEncoder(keras.Model):\n",
    "    \"\"\"\n",
    "    Implement a Variational Auto-Encoder model\n",
    "    \"\"\"\n",
    "    \n",
    "    def __init__(self, original_dim, intermediate_dim=64, latent_dim=32, name='autoencoder', **kwargs):\n",
    "        super(VariationalAutoEncoder, self).__init__(name=name, **kwargs)\n",
    "        self.original_dim = original_dim\n",
    "        self.encoder = Encoder(latent_dim=latent_dim, intermediate_dim=intermediate_dim)\n",
    "        self.decoder = Decoder(original_dim, intermediate_dim=intermediate_dim)\n",
    "    \n",
    "    def call(self, inputs: tf.Tensor) -> tf.Tensor:\n",
    "        \"\"\"\n",
    "        params:\n",
    "            inputs: original data, shape: (batch, original_dim)\n",
    "        returns:\n",
    "            reconstructed data, shape: (batch, original_dim)\n",
    "        \"\"\"\n",
    "        z_mean, z_log_var, z = self.encoder(inputs)\n",
    "        reconstructed = self.decoder(z)\n",
    "        \n",
    "        # add KL divergence regularization loss\n",
    "        kl_loss = -0.5 * tf.reduce_mean(\n",
    "            1 + z_log_var - tf.exp(z_log_var) - tf.square(z_mean)\n",
    "        )\n",
    "        self.add_loss(kl_loss)\n",
    "        \n",
    "        return reconstructed\n",
    "        "
   ]
  },
  {
   "cell_type": "markdown",
   "metadata": {},
   "source": [
    "# Part II: Training"
   ]
  },
  {
   "cell_type": "markdown",
   "metadata": {},
   "source": [
    "## Training data"
   ]
  },
  {
   "cell_type": "code",
   "execution_count": 21,
   "metadata": {},
   "outputs": [],
   "source": [
    "(x_train, _y_train), _ = tf.keras.datasets.mnist.load_data()"
   ]
  },
  {
   "cell_type": "code",
   "execution_count": 25,
   "metadata": {},
   "outputs": [
    {
     "data": {
      "text/plain": [
       "(numpy.ndarray, (60000, 28, 28))"
      ]
     },
     "execution_count": 25,
     "metadata": {},
     "output_type": "execute_result"
    }
   ],
   "source": [
    "type(x_train), x_train.shape"
   ]
  },
  {
   "cell_type": "code",
   "execution_count": 26,
   "metadata": {},
   "outputs": [],
   "source": [
    "x_train = x_train.reshape(-1, 784).astype('float32') / 255"
   ]
  },
  {
   "cell_type": "code",
   "execution_count": 27,
   "metadata": {},
   "outputs": [
    {
     "data": {
      "text/plain": [
       "(60000, 784)"
      ]
     },
     "execution_count": 27,
     "metadata": {},
     "output_type": "execute_result"
    }
   ],
   "source": [
    "x_train.shape"
   ]
  },
  {
   "cell_type": "code",
   "execution_count": 28,
   "metadata": {},
   "outputs": [],
   "source": [
    "train_dataset = tf.data.Dataset.from_tensor_slices(x_train)\n",
    "train_dataset = train_dataset.shuffle(buffer_size=1024).batch(64)"
   ]
  },
  {
   "cell_type": "code",
   "execution_count": 35,
   "metadata": {},
   "outputs": [],
   "source": [
    "for batch_idx, batch in enumerate(train_dataset):\n",
    "    if batch_idx == 0:\n",
    "        break"
   ]
  },
  {
   "cell_type": "code",
   "execution_count": 37,
   "metadata": {},
   "outputs": [
    {
     "data": {
      "text/plain": [
       "TensorShape([64, 784])"
      ]
     },
     "execution_count": 37,
     "metadata": {},
     "output_type": "execute_result"
    }
   ],
   "source": [
    "batch.shape"
   ]
  },
  {
   "cell_type": "markdown",
   "metadata": {},
   "source": [
    "## Specifying modules"
   ]
  },
  {
   "cell_type": "code",
   "execution_count": 34,
   "metadata": {},
   "outputs": [
    {
     "name": "stdout",
     "output_type": "stream",
     "text": [
      "original_dim: 784\n"
     ]
    }
   ],
   "source": [
    "original_dim = 28 * 28\n",
    "print(f'original_dim: {original_dim}')\n",
    "\n",
    "vae = VariationalAutoEncoder(original_dim, 64, 32)\n",
    "\n",
    "optimizer = tf.keras.optimizers.Adam(learning_rate=1e-3)\n",
    "mse_loss_fn = tf.keras.losses.MeanSquaredError()\n",
    "\n",
    "loss_metric = tf.keras.metrics.Mean()"
   ]
  },
  {
   "cell_type": "markdown",
   "metadata": {},
   "source": [
    "## Training loop"
   ]
  },
  {
   "cell_type": "code",
   "execution_count": 45,
   "metadata": {},
   "outputs": [
    {
     "name": "stdout",
     "output_type": "stream",
     "text": [
      "step: 0, mean loss 0.3160361349582672\n",
      "step: 100, mean loss 0.12490179389715195\n",
      "step: 200, mean loss 0.09885703772306442\n",
      "step: 300, mean loss 0.08890584856271744\n",
      "step: 400, mean loss 0.08404117077589035\n",
      "step: 500, mean loss 0.08076141029596329\n",
      "step: 600, mean loss 0.0786130279302597\n",
      "step: 700, mean loss 0.0770300105214119\n",
      "step: 800, mean loss 0.07590256631374359\n",
      "step: 900, mean loss 0.07487347722053528\n",
      "step: 0, mean loss 0.07458935678005219\n",
      "step: 100, mean loss 0.07393629103899002\n",
      "step: 200, mean loss 0.07344485074281693\n",
      "step: 300, mean loss 0.07296932488679886\n",
      "step: 400, mean loss 0.072649747133255\n",
      "step: 500, mean loss 0.07224930822849274\n",
      "step: 600, mean loss 0.07195466756820679\n",
      "step: 700, mean loss 0.07167019695043564\n",
      "step: 800, mean loss 0.07143555581569672\n",
      "step: 900, mean loss 0.07117217779159546\n"
     ]
    }
   ],
   "source": [
    "epochs = 2\n",
    "for epoch_idx in range(epochs):\n",
    "    for batch_idx, x_train_batch in enumerate(train_dataset):\n",
    "        with tf.GradientTape() as tape:\n",
    "            reconstructed = vae(x_train_batch)\n",
    "            \n",
    "            # compute reconstruction loss\n",
    "            loss = mse_loss_fn(x_train_batch, reconstructed)\n",
    "            # add KL divergence loss\n",
    "            loss += sum(vae.losses)\n",
    "        \n",
    "        grads = tape.gradient(loss, vae.trainable_weights)\n",
    "        optimizer.apply_gradients(zip(grads, vae.trainable_weights))\n",
    "        \n",
    "        loss_metric(loss)\n",
    "        \n",
    "        if batch_idx % 100 == 0:\n",
    "            print(f'step: {batch_idx}, mean loss {loss_metric.result()}')\n",
    "            "
   ]
  },
  {
   "cell_type": "code",
   "execution_count": null,
   "metadata": {},
   "outputs": [],
   "source": []
  }
 ],
 "metadata": {
  "kernelspec": {
   "display_name": "Python 3",
   "language": "python",
   "name": "python3"
  },
  "language_info": {
   "codemirror_mode": {
    "name": "ipython",
    "version": 3
   },
   "file_extension": ".py",
   "mimetype": "text/x-python",
   "name": "python",
   "nbconvert_exporter": "python",
   "pygments_lexer": "ipython3",
   "version": "3.8.0"
  }
 },
 "nbformat": 4,
 "nbformat_minor": 4
}
