{
 "cells": [
  {
   "cell_type": "code",
   "execution_count": 1,
   "metadata": {
    "collapsed": true
   },
   "outputs": [],
   "source": [
    "import numpy as np\n",
    "import tensorflow as tf"
   ]
  },
  {
   "cell_type": "code",
   "execution_count": 10,
   "metadata": {
    "collapsed": true
   },
   "outputs": [],
   "source": [
    "V = 13\n",
    "E = 4\n",
    "input_indices = [3, 2, 7]\n",
    "embeddings = tf.Variable(tf.random_uniform([V, E], -1.0, 1.0))\n",
    "embed = tf.nn.embedding_lookup(embeddings, input_indices)"
   ]
  },
  {
   "cell_type": "code",
   "execution_count": 11,
   "metadata": {},
   "outputs": [
    {
     "name": "stdout",
     "output_type": "stream",
     "text": [
      "[[ -7.54227161e-01  -6.76543951e-01  -9.68521595e-01  -5.23419142e-01]\n",
      " [ -8.33840847e-01  -6.03422880e-01   9.92142200e-01   5.39526463e-01]\n",
      " [ -1.79290771e-04  -6.56915426e-01   4.36569929e-01   2.96679258e-01]\n",
      " [ -2.61023760e-01  -9.84941721e-01  -5.29151440e-01  -1.60656452e-01]\n",
      " [ -5.92828274e-01  -7.06881285e-01   2.74404287e-01   2.22884178e-01]\n",
      " [  8.35740328e-01  -6.88770533e-01  -8.35047960e-01   3.29983711e-01]\n",
      " [  3.53317499e-01  -9.32794571e-01   2.42786646e-01   4.20730114e-02]\n",
      " [  7.83689976e-01  -3.93373966e-02  -7.55779743e-02   9.14968252e-01]\n",
      " [  1.93425179e-01  -6.63011789e-01  -5.35936832e-01   6.38005257e-01]\n",
      " [ -6.70746088e-01   6.21989727e-01  -7.36084461e-01   4.54334736e-01]\n",
      " [ -1.64545774e-01   8.70491505e-01  -6.60877943e-01  -1.20341063e-01]\n",
      " [  3.34164381e-01   8.96745443e-01   8.45796824e-01  -5.01557827e-01]\n",
      " [ -6.54482841e-03   9.79826689e-01   4.76241112e-01  -3.11982632e-02]]\n",
      "\n",
      "[[ -2.61023760e-01  -9.84941721e-01  -5.29151440e-01  -1.60656452e-01]\n",
      " [ -1.79290771e-04  -6.56915426e-01   4.36569929e-01   2.96679258e-01]\n",
      " [  7.83689976e-01  -3.93373966e-02  -7.55779743e-02   9.14968252e-01]]\n"
     ]
    }
   ],
   "source": [
    "\n",
    "init = tf.global_variables_initializer()\n",
    "with tf.Session() as ss:\n",
    "    ss.run(init)\n",
    "    print(ss.run(embeddings))\n",
    "    print('')\n",
    "    print(ss.run(embed))"
   ]
  },
  {
   "cell_type": "code",
   "execution_count": null,
   "metadata": {
    "collapsed": true
   },
   "outputs": [],
   "source": []
  }
 ],
 "metadata": {
  "kernelspec": {
   "display_name": "Python 3",
   "language": "python",
   "name": "python3"
  },
  "language_info": {
   "codemirror_mode": {
    "name": "ipython",
    "version": 3
   },
   "file_extension": ".py",
   "mimetype": "text/x-python",
   "name": "python",
   "nbconvert_exporter": "python",
   "pygments_lexer": "ipython3",
   "version": "3.6.3"
  }
 },
 "nbformat": 4,
 "nbformat_minor": 2
}
