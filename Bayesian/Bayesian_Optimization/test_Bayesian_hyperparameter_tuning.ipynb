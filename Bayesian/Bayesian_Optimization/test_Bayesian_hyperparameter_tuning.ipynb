{
 "cells": [
  {
   "cell_type": "markdown",
   "metadata": {},
   "source": [
    "This notebook demonstrates using Bayesian Optimization to tune the hyper-parameters (learning rate and the penalty term gamma) in xgboost. \n",
    "\n",
    "Acquisition function is defined as negative of expected improvement, or negative of the upper confidence bound. So the optimization schema will look for points that lead to large negative acquisition function values."
   ]
  },
  {
   "cell_type": "code",
   "execution_count": 2,
   "metadata": {},
   "outputs": [],
   "source": [
    "import numpy as np\n",
    "import importlib\n",
    "from sklearn import ensemble\n",
    "from sklearn.svm import SVC\n",
    "from sklearn.datasets import make_classification\n",
    "from sklearn.preprocessing import scale\n",
    "from sklearn.model_selection import train_test_split, cross_val_score\n",
    "from xgboost.sklearn import XGBClassifier\n",
    "\n",
    "from bayesian_optimization import BayesianOptimization\n",
    "from bo_plot_utils import plot_iteration\n",
    "\n",
    "import matplotlib.pyplot as plt\n",
    "import matplotlib\n",
    "%matplotlib inline\n",
    "matplotlib.style.use('ggplot')\n",
    "from plot_functions import adjustAxeProperties"
   ]
  },
  {
   "cell_type": "code",
   "execution_count": 3,
   "metadata": {
    "collapsed": true
   },
   "outputs": [],
   "source": [
    "X_train, y_train = make_classification(n_samples=10000,\n",
    "                                       n_features=100,\n",
    "                                       n_informative=55,\n",
    "                                       n_redundant=5)\n",
    "\n",
    "def sample_loss(params):\n",
    "    learning_rate = 10 ** params[0]\n",
    "    gamma = 10 ** params[1]\n",
    "    return cross_val_score(XGBClassifier(n_estimators=200, learning_rate=learning_rate, gamma=gamma),\n",
    "                           X=X_train, y=y_train, scoring='roc_auc', cv=3).mean()\n",
    "\n",
    "bounds = np.array([[-6.0, 1.0], [-1.0, 3.0]])\n",
    "\n",
    "learning_rate_values = np.linspace(bounds[0][0], bounds[0][1], 30)\n",
    "gamma_values = np.linspace(bounds[1][0], bounds[1][1], 30)\n"
   ]
  },
  {
   "cell_type": "code",
   "execution_count": null,
   "metadata": {
    "collapsed": true
   },
   "outputs": [],
   "source": [
    "bo = BayesianOptimization(sample_loss, bounds=bounds, policy='ucb')  # 'ei'\n",
    "bo.fit(n_iter=15, n_pre_samples=3, random_search=10000)\n",
    "X_history, y_history = bo.get_iteration_history()"
   ]
  },
  {
   "cell_type": "code",
   "execution_count": null,
   "metadata": {},
   "outputs": [],
   "source": [
    "plot_iteration(bo, learning_rate_values, X_history, y_history, 3, gamma_values, \n",
    "               ': learning rate', ': gamma')"
   ]
  },
  {
   "cell_type": "code",
   "execution_count": null,
   "metadata": {
    "collapsed": true
   },
   "outputs": [],
   "source": [
    "# convert -delay 100 -loop 0 -dispose previous iteration_??.png bayesian_xgboost_params_tuning.gif"
   ]
  },
  {
   "cell_type": "code",
   "execution_count": 10,
   "metadata": {},
   "outputs": [
    {
     "data": {
      "text/html": [
       "<img src=\"bayesian_xgboost_params_tuning.gif\">"
      ],
      "text/plain": [
       "<IPython.core.display.HTML object>"
      ]
     },
     "execution_count": 10,
     "metadata": {},
     "output_type": "execute_result"
    }
   ],
   "source": [
    "from IPython.display import HTML\n",
    "HTML('<img src=\"bayesian_xgboost_params_tuning.gif\">')"
   ]
  },
  {
   "cell_type": "code",
   "execution_count": null,
   "metadata": {
    "collapsed": true
   },
   "outputs": [],
   "source": []
  }
 ],
 "metadata": {
  "kernelspec": {
   "display_name": "Python 3",
   "language": "python",
   "name": "python3"
  },
  "language_info": {
   "codemirror_mode": {
    "name": "ipython",
    "version": 3
   },
   "file_extension": ".py",
   "mimetype": "text/x-python",
   "name": "python",
   "nbconvert_exporter": "python",
   "pygments_lexer": "ipython3",
   "version": "3.6.3"
  }
 },
 "nbformat": 4,
 "nbformat_minor": 2
}
