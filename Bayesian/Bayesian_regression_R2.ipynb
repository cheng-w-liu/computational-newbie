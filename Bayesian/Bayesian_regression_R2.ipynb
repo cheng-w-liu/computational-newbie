{
 "cells": [
  {
   "cell_type": "markdown",
   "metadata": {},
   "source": [
    "#### Motivated by a paper by Andrew Gelman et al. http://www.stat.columbia.edu/~gelman/research/unpublished/bayes_R2.pdf \n",
    "\n",
    "In this notebook, we will demonstrate a modified version of $R^2$ that is more suitable for Bayesian regression. \n",
    "\n",
    "The basic definiton of $R^2$ is:\n",
    "\n",
    "$\n",
    "R^2 \\equiv \\dfrac{\\text{variance of the predicted values}}{\\text{variance of the data}}\n",
    "$"
   ]
  },
  {
   "cell_type": "markdown",
   "metadata": {},
   "source": [
    "- In ordinary least square (OLS) fit, by construction, $y^{(i)} = \\hat{y^{(i)}} + \\epsilon^{(i)}$, and consequently $TSS = ESS + RSS$, where\n",
    "\n",
    "\n",
    "\\begin{array}\n",
    " \\text{TSS} &=& \\text{Total Sum of Squares} = \\sum\\limits_{i}^{N} (y^{(i)} - \\bar{y})^2 \\\\\n",
    " \\text{ESS} &=& \\text{Estimated Sum of Squares} = \\sum\\limits_{i}^{N} (\\hat{y}^{(i)} - \\bar{\\hat{y}})^2 \\\\\n",
    " \\text{RSS} &=& \\text{Residual Sum of Squares} = \\sum\\limits_{i}^{N} \\epsilon^{(i)^2} =  \\sum\\limits_{i}^{N} (y^{(i)} - \\hat{y^{(i)}})^2\n",
    "\\end{array}\n",
    "\n",
    "so $R^2$ can be written as:\n",
    "\n",
    "$\n",
    "\\text{classical } R^2 =\\dfrac{\\text{estimated variance}}{\\text{total variance}} = \\dfrac{\\sum\\limits_{i}^{N} (\\hat{y}^{(i)} - \\bar{\\hat{y}})^2}{\\sum\\limits_{i}^{N} (y^{(i)} - \\bar{y})^2} = \\dfrac{ESS}{TSS} = \\dfrac{TSS - RSS}{TSS} = 1 - \\dfrac{RSS}{TSS}\n",
    "$\n",
    "\n"
   ]
  },
  {
   "cell_type": "markdown",
   "metadata": {},
   "source": [
    "- However, in Bayesian regression, there is no restriction on ESS as to its value relative to TSS. To see why, recall that the formulation for Bayesian regression:\n",
    "\n",
    "$\n",
    "y^{(i)} \\sim \\mathcal{N}(x^{(i)^T} \\beta, \\sigma^2)\n",
    "$\n",
    "\n",
    "where $\\beta$ and $\\sigma$ are drawn from some user-specified prior distributions.\n",
    "\n",
    "Therefore, a more appropriate definiton of $R^2$ will be the following:\n",
    "\n",
    "$\n",
    "\\text{alternative } R^2 \\equiv \\dfrac{\\sum\\limits_{i}^{N} (\\hat{y}^{(i)} - \\bar{\\hat{y}})^2}{\\sum\\limits_{i}^{N} (\\hat{y}^{(i)} - \\bar{\\hat{y}})^2 + \\sum\\limits_{i}^{N} \\epsilon^{(i)^2}} = \\dfrac{ESS}{ESS + RSS}\n",
    "$\n",
    "\n",
    "Noteice that the above definiton of $R^2$ has the following properties:\n",
    "\n",
    "1) It's guaranteed to be between 0 and 1\n",
    "\n",
    "2) When applied to OLS model, it's exactly the same as classical $R^2$ as TSS = ESS + RSS in OLS."
   ]
  },
  {
   "cell_type": "code",
   "execution_count": 2,
   "metadata": {},
   "outputs": [],
   "source": [
    "import numpy as np\n",
    "import pandas as pd\n",
    "import patsy\n",
    "import statsmodels.api as sm\n",
    "import pymc3 as pm\n",
    "import scipy.stats\n",
    "\n",
    "import seaborn as sbn\n",
    "import matplotlib.pyplot as plt\n",
    "import matplotlib\n",
    "matplotlib.style.use('ggplot')\n",
    "%matplotlib inline"
   ]
  },
  {
   "cell_type": "code",
   "execution_count": 3,
   "metadata": {
    "collapsed": true
   },
   "outputs": [],
   "source": [
    "def adjustAxeProperties(ax_obj, x_fontsize, x_rotation, y_fontsize, y_rotation):\n",
    "    for tick in ax_obj.xaxis.get_major_ticks():\n",
    "        tick.label.set_fontsize(x_fontsize)\n",
    "        tick.label.set_rotation(x_rotation)\n",
    "    for tick in ax_obj.yaxis.get_major_ticks():\n",
    "        tick.label.set_fontsize(y_fontsize)\n",
    "        tick.label.set_rotation(y_rotation)"
   ]
  },
  {
   "cell_type": "code",
   "execution_count": 4,
   "metadata": {
    "collapsed": true
   },
   "outputs": [],
   "source": [
    "def generateData(true_intercept=1, true_slope=2, noise=0.5, n_points=20):\n",
    "    df = pd.DataFrame({'x': np.random.uniform(-2.3, 2.3, size=n_points)})\n",
    "    df['y'] = true_intercept + true_slope * df['x'] + np.random.np.random.normal(0, scale=noise, size=n_points)\n",
    "    df = df.sort_values(['x'], ascending=True).reset_index(drop=True)\n",
    "    return df"
   ]
  },
  {
   "cell_type": "markdown",
   "metadata": {},
   "source": [
    "# Generate data"
   ]
  },
  {
   "cell_type": "code",
   "execution_count": 5,
   "metadata": {
    "collapsed": true
   },
   "outputs": [],
   "source": [
    "true_intercept = 1\n",
    "true_slope = 2\n",
    "noise = 1\n",
    "n_points = 20\n",
    "data = generateData(true_intercept, true_slope, noise, n_points)"
   ]
  },
  {
   "cell_type": "code",
   "execution_count": 6,
   "metadata": {},
   "outputs": [
    {
     "data": {
      "image/png": "[encoded data removed]",
      "text/plain": [
       "<matplotlib.figure.Figure at 0x117ed6898>"
      ]
     },
     "metadata": {},
     "output_type": "display_data"
    }
   ],
   "source": [
    "FONTSIZE = 22\n",
    "g = sbn.lmplot(x='x', y='y', data=data, fit_reg=True, \n",
    "               size=6, scatter_kws={'alpha':0.8, 's':60, 'color': 'b'})\n",
    "\n",
    "_ = g.axes.flat[0].set_xlabel(r'$x$', fontsize=FONTSIZE, labelpad=15)\n",
    "_ = g.axes.flat[0].set_ylabel(r'$y$', fontsize=FONTSIZE, labelpad=15)\n",
    "g.axes.flat[0].set_title(r'simple data: $y$ ~ {0:} + {1:} $x$ + $\\epsilon$'.format(true_intercept, true_slope), \n",
    "                         fontsize=FONTSIZE)\n",
    "adjustAxeProperties(g.axes.flat[0], FONTSIZE, 0, FONTSIZE, 0)"
   ]
  },
  {
   "cell_type": "markdown",
   "metadata": {},
   "source": [
    "# Fit a ordinary least sqaure (OLS) / linear regression model "
   ]
  },
  {
   "cell_type": "code",
   "execution_count": 7,
   "metadata": {
    "collapsed": true
   },
   "outputs": [],
   "source": [
    "formula = 'y ~ x'\n",
    "(y, X) = patsy.dmatrices(formula, data, return_type='dataframe')\n",
    "lin_reg = sm.OLS(y, X).fit()"
   ]
  },
  {
   "cell_type": "code",
   "execution_count": 8,
   "metadata": {},
   "outputs": [
    {
     "data": {
      "text/html": [
       "<table class=\"simpletable\">\n",
       "<caption>OLS Regression Results</caption>\n",
       "<tr>\n",
       "  <th>Dep. Variable:</th>            <td>y</td>        <th>  R-squared:         </th> <td>   0.842</td>\n",
       "</tr>\n",
       "<tr>\n",
       "  <th>Model:</th>                   <td>OLS</td>       <th>  Adj. R-squared:    </th> <td>   0.834</td>\n",
       "</tr>\n",
       "<tr>\n",
       "  <th>Method:</th>             <td>Least Squares</td>  <th>  F-statistic:       </th> <td>   96.20</td>\n",
       "</tr>\n",
       "<tr>\n",
       "  <th>Date:</th>             <td>Sun, 10 Dec 2017</td> <th>  Prob (F-statistic):</th> <td>1.20e-08</td>\n",
       "</tr>\n",
       "<tr>\n",
       "  <th>Time:</th>                 <td>21:59:07</td>     <th>  Log-Likelihood:    </th> <td> -28.002</td>\n",
       "</tr>\n",
       "<tr>\n",
       "  <th>No. Observations:</th>      <td>    20</td>      <th>  AIC:               </th> <td>   60.00</td>\n",
       "</tr>\n",
       "<tr>\n",
       "  <th>Df Residuals:</th>          <td>    18</td>      <th>  BIC:               </th> <td>   62.00</td>\n",
       "</tr>\n",
       "<tr>\n",
       "  <th>Df Model:</th>              <td>     1</td>      <th>                     </th>     <td> </td>   \n",
       "</tr>\n",
       "<tr>\n",
       "  <th>Covariance Type:</th>      <td>nonrobust</td>    <th>                     </th>     <td> </td>   \n",
       "</tr>\n",
       "</table>\n",
       "<table class=\"simpletable\">\n",
       "<tr>\n",
       "      <td></td>         <th>coef</th>     <th>std err</th>      <th>t</th>      <th>P>|t|</th>  <th>[0.025</th>    <th>0.975]</th>  \n",
       "</tr>\n",
       "<tr>\n",
       "  <th>Intercept</th> <td>    1.4093</td> <td>    0.232</td> <td>    6.070</td> <td> 0.000</td> <td>    0.921</td> <td>    1.897</td>\n",
       "</tr>\n",
       "<tr>\n",
       "  <th>x</th>         <td>    1.8614</td> <td>    0.190</td> <td>    9.808</td> <td> 0.000</td> <td>    1.463</td> <td>    2.260</td>\n",
       "</tr>\n",
       "</table>\n",
       "<table class=\"simpletable\">\n",
       "<tr>\n",
       "  <th>Omnibus:</th>       <td> 3.989</td> <th>  Durbin-Watson:     </th> <td>   2.937</td>\n",
       "</tr>\n",
       "<tr>\n",
       "  <th>Prob(Omnibus):</th> <td> 0.136</td> <th>  Jarque-Bera (JB):  </th> <td>   2.024</td>\n",
       "</tr>\n",
       "<tr>\n",
       "  <th>Skew:</th>          <td> 0.425</td> <th>  Prob(JB):          </th> <td>   0.364</td>\n",
       "</tr>\n",
       "<tr>\n",
       "  <th>Kurtosis:</th>      <td> 4.307</td> <th>  Cond. No.          </th> <td>    1.25</td>\n",
       "</tr>\n",
       "</table>"
      ],
      "text/plain": [
       "<class 'statsmodels.iolib.summary.Summary'>\n",
       "\"\"\"\n",
       "                            OLS Regression Results                            \n",
       "==============================================================================\n",
       "Dep. Variable:                      y   R-squared:                       0.842\n",
       "Model:                            OLS   Adj. R-squared:                  0.834\n",
       "Method:                 Least Squares   F-statistic:                     96.20\n",
       "Date:                Sun, 10 Dec 2017   Prob (F-statistic):           1.20e-08\n",
       "Time:                        21:59:07   Log-Likelihood:                -28.002\n",
       "No. Observations:                  20   AIC:                             60.00\n",
       "Df Residuals:                      18   BIC:                             62.00\n",
       "Df Model:                           1                                         \n",
       "Covariance Type:            nonrobust                                         \n",
       "==============================================================================\n",
       "                 coef    std err          t      P>|t|      [0.025      0.975]\n",
       "------------------------------------------------------------------------------\n",
       "Intercept      1.4093      0.232      6.070      0.000       0.921       1.897\n",
       "x              1.8614      0.190      9.808      0.000       1.463       2.260\n",
       "==============================================================================\n",
       "Omnibus:                        3.989   Durbin-Watson:                   2.937\n",
       "Prob(Omnibus):                  0.136   Jarque-Bera (JB):                2.024\n",
       "Skew:                           0.425   Prob(JB):                        0.364\n",
       "Kurtosis:                       4.307   Cond. No.                         1.25\n",
       "==============================================================================\n",
       "\n",
       "Warnings:\n",
       "[1] Standard Errors assume that the covariance matrix of the errors is correctly specified.\n",
       "\"\"\""
      ]
     },
     "execution_count": 8,
     "metadata": {},
     "output_type": "execute_result"
    }
   ],
   "source": [
    "lin_reg.summary()"
   ]
  },
  {
   "cell_type": "code",
   "execution_count": 9,
   "metadata": {
    "collapsed": true
   },
   "outputs": [],
   "source": [
    "def classical_R2(y_true, y_pred, axis=None):\n",
    "    # y_pred: n_draws x n_data_points\n",
    "    if axis is not None:\n",
    "        y_true = np.reshape(y_true, (1, len(y_true)))\n",
    "        return np.var(y_pred, axis=axis) / np.var(y_true, axis=axis) \n",
    "    else:\n",
    "        return np.var(y_pred) / np.var(y_true)\n",
    "\n",
    "def alternative_R2(y_true, y_pred, axis=None)    :\n",
    "    if axis is not None:\n",
    "        y_true = np.reshape(y_true, (1, len(y_true)))\n",
    "        r = y_true - y_pred\n",
    "        return np.var(y_pred, axis=axis) / (np.var(y_pred, axis=axis) + np.var(r, axis=axis))\n",
    "    else:\n",
    "        r = y_true - y_pred\n",
    "        return np.var(y_pred) / (np.var(y_pred) + np.var(r))"
   ]
  },
  {
   "cell_type": "code",
   "execution_count": 10,
   "metadata": {},
   "outputs": [
    {
     "name": "stdout",
     "output_type": "stream",
     "text": [
      "classical R2: 0.842\n",
      "alternative R2: 0.842\n"
     ]
    }
   ],
   "source": [
    "classical_r2 = classical_R2(data['y'].values, lin_reg.predict(X))\n",
    "print('classical R2: {0:.3f}'.format(classical_r2))\n",
    "\n",
    "alternative_r2 = alternative_R2(data['y'].values, lin_reg.predict(X))\n",
    "print('alternative R2: {0:.3f}'.format(alternative_r2))\n"
   ]
  },
  {
   "cell_type": "markdown",
   "metadata": {},
   "source": [
    "The $R^2$ is 0.842, consistent with statsmodels output. We also verify that for OLS, the classical $R^2$ and the alternative $R^2$ are the same. "
   ]
  },
  {
   "cell_type": "markdown",
   "metadata": {},
   "source": [
    "# Bayesian linear regression and $R^2$"
   ]
  },
  {
   "cell_type": "markdown",
   "metadata": {},
   "source": [
    "Let's fit a Bayesian linear regression model"
   ]
  },
  {
   "cell_type": "code",
   "execution_count": 11,
   "metadata": {},
   "outputs": [
    {
     "name": "stderr",
     "output_type": "stream",
     "text": [
      "logp = -38.766, ||grad|| = 8.1588: 100%|██████████| 21/21 [00:00<00:00, 2323.04it/s]  \n",
      "100%|██████████| 6500/6500 [00:05<00:00, 1241.58it/s]\n"
     ]
    }
   ],
   "source": [
    "xvals = data['x'].values\n",
    "yvals = data['y'].values\n",
    "with pm.Model() as model:\n",
    "    \n",
    "    BURN_IN_STEPS = 2000\n",
    "    MCMC_STEPS = 4000\n",
    "    \n",
    "    # Specify priors\n",
    "    sigma = pm.HalfCauchy('sigma', beta=10, testval=1.0)    \n",
    "    beta0 = pm.Normal('beta0', 0.0, sd=10.0)\n",
    "    beta1 = pm.Normal('beta1', 0.0, sd=10.0)\n",
    "    \n",
    "    # Specify likelihood\n",
    "    likelihood = pm.Normal('y', mu=beta0 + beta1 * xvals, sd=sigma,\n",
    "                           observed=yvals)\n",
    "    \n",
    "    # MCMC \n",
    "    start = pm.find_MAP()\n",
    "    trace = pm.sample(BURN_IN_STEPS+MCMC_STEPS, start=start, step=pm.NUTS())\n",
    "    trace = trace[BURN_IN_STEPS:]\n",
    "\n",
    "# Use posterior predictive check to draw 1000 samples of parameters\n",
    "posterior_predictive = pm.sample_ppc(trace, model=model, samples=1000, progressbar=False)    "
   ]
  },
  {
   "cell_type": "code",
   "execution_count": 12,
   "metadata": {},
   "outputs": [
    {
     "data": {
      "text/plain": [
       "dict_keys(['y'])"
      ]
     },
     "execution_count": 12,
     "metadata": {},
     "output_type": "execute_result"
    }
   ],
   "source": [
    "posterior_predictive.keys()"
   ]
  },
  {
   "cell_type": "code",
   "execution_count": 13,
   "metadata": {},
   "outputs": [
    {
     "data": {
      "text/plain": [
       "(1000, 20)"
      ]
     },
     "execution_count": 13,
     "metadata": {},
     "output_type": "execute_result"
    }
   ],
   "source": [
    "# each row corresponds to a given draw of the parameters\n",
    "# each column corresponds to a data point\n",
    "posterior_predictive['y'].shape"
   ]
  },
  {
   "cell_type": "markdown",
   "metadata": {},
   "source": [
    "Based on the posterior draws, we can compare the classical $R^2$ and adjusted $R^2$, to see which one better describes a Bayesian linear regression model."
   ]
  },
  {
   "cell_type": "code",
   "execution_count": 14,
   "metadata": {
    "collapsed": true
   },
   "outputs": [],
   "source": [
    "mcmc_classical_R2 = classical_R2(data['y'].values, posterior_predictive['y'], axis=1)\n",
    "mcmc_Bayesian_R2 = alternative_R2(data['y'].values, posterior_predictive['y'], axis=1)\n",
    "\n",
    "bayesian_median = np.percentile(mcmc_Bayesian_R2, 50)"
   ]
  },
  {
   "cell_type": "code",
   "execution_count": 21,
   "metadata": {},
   "outputs": [
    {
     "data": {
      "image/png": "[encoded data removed]",
      "text/plain": [
       "<matplotlib.figure.Figure at 0x11c4118d0>"
      ]
     },
     "metadata": {},
     "output_type": "display_data"
    }
   ],
   "source": [
    "FONTSIZE = 22\n",
    "plt.close('all')\n",
    "fig, ax = plt.subplots(1, figsize=(12, 7.5))\n",
    "ax = sbn.distplot(mcmc_classical_R2, ax=ax, label=r'classical $R^2$')\n",
    "ax = sbn.distplot(mcmc_Bayesian_R2, ax=ax, label=r'alternative $R^2$')\n",
    "ax.axvline(bayesian_median, ls='--', color='k')\n",
    "ax.legend(loc='best', fontsize=FONTSIZE*0.9)\n",
    "ax.set_title(r'$R^2$ from posterior sampling', fontsize=FONTSIZE)\n",
    "\n",
    "ax.annotate('median={0:.3f}'.format(bayesian_median),\n",
    "            xy=(bayesian_median, 3),\n",
    "            xytext=(0.55, 0.55),\n",
    "            textcoords='figure fraction',\n",
    "            arrowprops=dict(facecolor='black', shrink=0.05, width=1.5),\n",
    "            horizontalalignment='left',\n",
    "            verticalalignment='bottom',\n",
    "            fontsize=20)\n",
    "ax.set_xlim(0, 2.05)            \n",
    "ax.set_ylim(0, 7.9)\n",
    "ax.set_xlabel(r'$R^2$', fontsize=FONTSIZE, labelpad=15)\n",
    "ax.set_ylabel('Density', fontsize=FONTSIZE, labelpad=15)\n",
    "adjustAxeProperties(ax, FONTSIZE, 0, FONTSIZE, 0)"
   ]
  },
  {
   "cell_type": "markdown",
   "metadata": {},
   "source": [
    "Apparently, alternative $R^2$ suits better for the Bayesian linear regression model, as it's always between 0 and 1, while classical $R^2$ can go up to 1.75, awkwardly implying that the model explains 175% of the data."
   ]
  },
  {
   "cell_type": "code",
   "execution_count": null,
   "metadata": {
    "collapsed": true
   },
   "outputs": [],
   "source": []
  }
 ],
 "metadata": {
  "kernelspec": {
   "display_name": "Python 3",
   "language": "python",
   "name": "python3"
  },
  "language_info": {
   "codemirror_mode": {
    "name": "ipython",
    "version": 3
   },
   "file_extension": ".py",
   "mimetype": "text/x-python",
   "name": "python",
   "nbconvert_exporter": "python",
   "pygments_lexer": "ipython3",
   "version": "3.6.3"
  }
 },
 "nbformat": 4,
 "nbformat_minor": 2
}
