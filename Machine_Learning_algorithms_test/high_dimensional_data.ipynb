{
 "cells": [
  {
   "cell_type": "code",
   "execution_count": 160,
   "metadata": {
    "collapsed": true
   },
   "outputs": [],
   "source": [
    "from scipy.stats import multivariate_normal\n",
    "import numpy as np\n",
    "\n",
    "import matplotlib.pyplot as plt\n",
    "import matplotlib\n",
    "matplotlib.style.use('ggplot')\n",
    "%matplotlib inline"
   ]
  },
  {
   "cell_type": "code",
   "execution_count": null,
   "metadata": {
    "collapsed": true
   },
   "outputs": [],
   "source": [
    "x = np.random.normal(size=(5,))\n",
    "y = np.outer(x, x)\n",
    "z = np.random.multivariate_normal(np.zeros(5), y)    "
   ]
  },
  {
   "cell_type": "code",
   "execution_count": 87,
   "metadata": {
    "collapsed": false
   },
   "outputs": [
    {
     "data": {
      "text/plain": [
       "array([[ 0.11724452,  0.33953432,  0.31318113],\n",
       "       [ 0.33953432,  0.98327459,  0.90695704],\n",
       "       [ 0.31318113,  0.90695704,  0.83656293]])"
      ]
     },
     "execution_count": 87,
     "metadata": {},
     "output_type": "execute_result"
    }
   ],
   "source": [
    "a = np.random.random(3)\n",
    "np.outer(a, a)"
   ]
  },
  {
   "cell_type": "code",
   "execution_count": 238,
   "metadata": {
    "collapsed": false
   },
   "outputs": [],
   "source": [
    "def generateMuAndSigma(d):\n",
    "    np.random.seed(2125)\n",
    "    mu = np.random.random(d)  \n",
    "    a = np.random.random(d)\n",
    "    Sigma = 1e-5 * np.outer(a, a) + 1e-8*np.eye(d)\n",
    "    \n",
    "    #this won't work\n",
    "    #A = np.random.random((d,d))\n",
    "    #Sigma = (0.5 * (A + A.T)) + 1e-8*np.eye(d)\n",
    "    return mu, Sigma\n",
    "    "
   ]
  },
  {
   "cell_type": "code",
   "execution_count": 239,
   "metadata": {
    "collapsed": false
   },
   "outputs": [],
   "source": [
    "d = 70\n",
    "N = 10\n",
    "mu, Sigma = generateMuAndSigma(d)\n",
    "mvn = multivariate_normal(mean=mu, cov=Sigma)\n",
    "Xtrain = mvn.rvs(N)\n",
    "ytrain = mvn.pdf(Xtrain)\n",
    "\n",
    "N_test = 100\n",
    "Xtest = mvn.rvs(N_test)\n",
    "ytest = mvn.pdf(Xtest)"
   ]
  },
  {
   "cell_type": "code",
   "execution_count": 240,
   "metadata": {
    "collapsed": false
   },
   "outputs": [
    {
     "name": "stdout",
     "output_type": "stream",
     "text": [
      "inf 1.40723689235e+232\n"
     ]
    },
    {
     "name": "stderr",
     "output_type": "stream",
     "text": [
      "/Users/chengweiliu/anaconda/envs/py35/lib/python3.5/site-packages/ipykernel/__main__.py:6: RuntimeWarning: divide by zero encountered in double_scalars\n"
     ]
    }
   ],
   "source": [
    "# make sure the (x, y) are really from Multivariate Normal \n",
    "i = 5\n",
    "x = Xtrain[i,:]\n",
    "vec_d = x - mu\n",
    "norm = np.sqrt(np.power(2*np.pi, d) * np.linalg.det(Sigma))\n",
    "y_est = (1.0/norm) * np.exp(-0.5*vec_d.dot(np.linalg.inv(Sigma).dot(vec_d)))\n",
    "print(y_est, ytrain[i])"
   ]
  },
  {
   "cell_type": "markdown",
   "metadata": {},
   "source": [
    "def calculateCostFunction(X, y, w):\n",
    "    vec_d = y - X.dot(w)\n",
    "    return 0.5 * vec_d.T.dot(vec_d)\n",
    "\n",
    "def gradientDescent(Xtrain, ytrain, early_stop_criterion=1e-7, nIter=10000, eta=0.0000001):\n",
    "    \n",
    "    N, d = Xtrain.shape\n",
    "    w = np.zeros((d+1))\n",
    "    \n",
    "    X = np.concatenate([np.ones(N).reshape((N,1)), Xtrain], 1)\n",
    "    \n",
    "    J = []\n",
    "    for _ in range(nIter):\n",
    "        old_w = w\n",
    "        w = w + eta * X.T.dot(ytrain - X.dot(w))\n",
    "        J.append(calculateCostFunction(X, ytrain, w))\n",
    "        if np.all(np.abs(w - old_w) < early_stop_criterion):\n",
    "            break\n",
    "    return w, np.array(J)\n"
   ]
  },
  {
   "cell_type": "code",
   "execution_count": 232,
   "metadata": {
    "collapsed": false
   },
   "outputs": [],
   "source": [
    "w, J = gradientDescent(Xtrain, ytrain)"
   ]
  },
  {
   "cell_type": "code",
   "execution_count": 233,
   "metadata": {
    "collapsed": false
   },
   "outputs": [
    {
     "data": {
      "text/plain": [
       "array([ inf,  inf,  inf,  inf,  inf,  inf,  inf,  inf,  inf,  inf])"
      ]
     },
     "execution_count": 233,
     "metadata": {},
     "output_type": "execute_result"
    }
   ],
   "source": [
    "J[0:10]"
   ]
  },
  {
   "cell_type": "code",
   "execution_count": 212,
   "metadata": {
    "collapsed": false
   },
   "outputs": [
    {
     "data": {
      "text/plain": [
       "<matplotlib.legend.Legend at 0x12819cf28>"
      ]
     },
     "execution_count": 212,
     "metadata": {},
     "output_type": "execute_result"
    },
    {
     "data": {
      "image/png": "[encoded data removed]",
      "text/plain": [
       "<matplotlib.figure.Figure at 0x12821e080>"
      ]
     },
     "metadata": {},
     "output_type": "display_data"
    }
   ],
   "source": [
    "FONTSIZE = 20\n",
    "plt.close('all')\n",
    "fig, ax = plt.subplots(1, figsize=(11, 7))\n",
    "n_iter = len(J)\n",
    "xs = 1 + np.arange(n_iter)\n",
    "ax.plot(xs, J, lw=2, label='training error')\n",
    "ax.set_xlabel('iteration', fontsize=FONTSIZE, labelpad=15)\n",
    "ax.set_ylabel('cost function', fontsize=FONTSIZE, labelpad=15)\n",
    "ax.legend(loc=1, fontsize=FONTSIZE)"
   ]
  },
  {
   "cell_type": "code",
   "execution_count": 177,
   "metadata": {
    "collapsed": false
   },
   "outputs": [
    {
     "data": {
      "text/plain": [
       "array([  1.52044444e+264,   1.52044323e+264,   1.52044201e+264,\n",
       "         1.52044079e+264,   1.52043957e+264,   1.52043835e+264,\n",
       "         1.52043713e+264,   1.52043592e+264,   1.52043470e+264,\n",
       "         1.52043348e+264])"
      ]
     },
     "execution_count": 177,
     "metadata": {},
     "output_type": "execute_result"
    }
   ],
   "source": [
    "y_"
   ]
  },
  {
   "cell_type": "code",
   "execution_count": null,
   "metadata": {
    "collapsed": true
   },
   "outputs": [],
   "source": []
  }
 ],
 "metadata": {
  "kernelspec": {
   "display_name": "Python 3",
   "language": "python",
   "name": "python3"
  },
  "language_info": {
   "codemirror_mode": {
    "name": "ipython",
    "version": 3
   },
   "file_extension": ".py",
   "mimetype": "text/x-python",
   "name": "python",
   "nbconvert_exporter": "python",
   "pygments_lexer": "ipython3",
   "version": "3.5.3"
  }
 },
 "nbformat": 4,
 "nbformat_minor": 0
}
