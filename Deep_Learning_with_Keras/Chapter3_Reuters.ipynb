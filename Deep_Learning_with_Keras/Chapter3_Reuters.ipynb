{
 "cells": [
  {
   "cell_type": "code",
   "execution_count": 1,
   "metadata": {},
   "outputs": [],
   "source": [
    "import os\n",
    "os.environ['KERAS_BACKEND'] = 'tensorflow'"
   ]
  },
  {
   "cell_type": "code",
   "execution_count": 2,
   "metadata": {},
   "outputs": [
    {
     "name": "stderr",
     "output_type": "stream",
     "text": [
      "Using TensorFlow backend.\n"
     ]
    }
   ],
   "source": [
    "from keras import layers, models\n",
    "from keras.datasets import reuters\n",
    "from keras.utils.np_utils import to_categorical\n",
    "import numpy as np"
   ]
  },
  {
   "cell_type": "code",
   "execution_count": 3,
   "metadata": {},
   "outputs": [],
   "source": [
    "import matplotlib\n",
    "import matplotlib.pyplot as plt\n",
    "%matplotlib inline\n",
    "matplotlib.style.use('ggplot')"
   ]
  },
  {
   "cell_type": "code",
   "execution_count": 4,
   "metadata": {},
   "outputs": [],
   "source": [
    "(train_data, train_labels), (test_data, test_labels) = reuters.load_data(num_words=10000)"
   ]
  },
  {
   "cell_type": "code",
   "execution_count": 5,
   "metadata": {},
   "outputs": [
    {
     "data": {
      "text/plain": [
       "(8982, 2246)"
      ]
     },
     "execution_count": 5,
     "metadata": {},
     "output_type": "execute_result"
    }
   ],
   "source": [
    "len(train_data), len(test_data)"
   ]
  },
  {
   "cell_type": "code",
   "execution_count": 6,
   "metadata": {},
   "outputs": [
    {
     "data": {
      "text/plain": [
       "[1, 245, 273, 207, 156, 53, 74, 160, 26, 14, 46, 296, 26]"
      ]
     },
     "execution_count": 6,
     "metadata": {},
     "output_type": "execute_result"
    }
   ],
   "source": [
    "train_data[10][0:13]"
   ]
  },
  {
   "cell_type": "code",
   "execution_count": 7,
   "metadata": {},
   "outputs": [
    {
     "data": {
      "text/plain": [
       "3"
      ]
     },
     "execution_count": 7,
     "metadata": {},
     "output_type": "execute_result"
    }
   ],
   "source": [
    "train_labels[10]"
   ]
  },
  {
   "cell_type": "code",
   "execution_count": 8,
   "metadata": {},
   "outputs": [],
   "source": [
    "word_index = reuters.get_word_index()"
   ]
  },
  {
   "cell_type": "code",
   "execution_count": 9,
   "metadata": {},
   "outputs": [],
   "source": [
    "reverse_word_index = {value: key for key, value in word_index.items()}"
   ]
  },
  {
   "cell_type": "code",
   "execution_count": 10,
   "metadata": {},
   "outputs": [
    {
     "data": {
      "text/plain": [
       "'? ? ? said as a result of its december acquisition of space co it expects earnings per share in 1987 of 1 15 to 1 30 dlrs per share up from 70 cts in 1986 the company said pretax net should rise to nine to 10 mln dlrs from six mln dlrs in 1986 and rental operation revenues to 19 to 22 mln dlrs from 12 5 mln dlrs it said cash flow per share this year should be 2 50 to three dlrs reuter 3'"
      ]
     },
     "execution_count": 10,
     "metadata": {},
     "output_type": "execute_result"
    }
   ],
   "source": [
    "' '.join(\n",
    " [reverse_word_index.get(i-3, '?') for i in train_data[0]]\n",
    ")"
   ]
  },
  {
   "cell_type": "code",
   "execution_count": 11,
   "metadata": {},
   "outputs": [],
   "source": [
    "def vectorize_sequence(sequences, dimension=10000):\n",
    "    results = np.zeros((len(sequences), dimension))\n",
    "    for i, sequence in enumerate(sequences):\n",
    "        results[i, sequence] = 1.0\n",
    "    return results"
   ]
  },
  {
   "cell_type": "code",
   "execution_count": 12,
   "metadata": {},
   "outputs": [],
   "source": [
    "vectorized_x = vectorize_sequence(train_data)\n",
    "one_hot_encoeded_y = to_categorical(train_labels)\n",
    "\n",
    "x_train = vectorized_x[1000:]\n",
    "x_val = vectorized_x[0:1000]\n",
    "y_train = one_hot_encoeded_y[1000:]\n",
    "y_val = one_hot_encoeded_y[0:1000]\n",
    "\n",
    "x_test = vectorize_sequence(test_data)\n",
    "y_test = to_categorical(test_labels)"
   ]
  },
  {
   "cell_type": "code",
   "execution_count": 13,
   "metadata": {},
   "outputs": [
    {
     "name": "stdout",
     "output_type": "stream",
     "text": [
      "WARNING:tensorflow:From /Users/chengweiliu/anaconda/envs/tfenv/lib/python3.6/site-packages/tensorflow/python/framework/op_def_library.py:263: colocate_with (from tensorflow.python.framework.ops) is deprecated and will be removed in a future version.\n",
      "Instructions for updating:\n",
      "Colocations handled automatically by placer.\n"
     ]
    }
   ],
   "source": [
    "network = models.Sequential()\n",
    "network.add(layers.Dense(64, activation='relu', input_shape=(10000,)))\n",
    "network.add(layers.Dense(64, activation='relu'))\n",
    "network.add(layers.Dense(46, activation='softmax'))\n",
    "network.compile(\n",
    "    optimizer='rmsprop',\n",
    "    loss='categorical_crossentropy',\n",
    "    metrics=['accuracy']\n",
    ")"
   ]
  },
  {
   "cell_type": "code",
   "execution_count": 14,
   "metadata": {},
   "outputs": [
    {
     "name": "stdout",
     "output_type": "stream",
     "text": [
      "WARNING:tensorflow:From /Users/chengweiliu/anaconda/envs/tfenv/lib/python3.6/site-packages/tensorflow/python/ops/math_ops.py:3066: to_int32 (from tensorflow.python.ops.math_ops) is deprecated and will be removed in a future version.\n",
      "Instructions for updating:\n",
      "Use tf.cast instead.\n",
      "Train on 7982 samples, validate on 1000 samples\n",
      "Epoch 1/20\n",
      "7982/7982 [==============================] - 2s 252us/step - loss: 2.5333 - acc: 0.4946 - val_loss: 1.7233 - val_acc: 0.6120\n",
      "Epoch 2/20\n",
      "7982/7982 [==============================] - 1s 103us/step - loss: 1.4500 - acc: 0.6868 - val_loss: 1.3499 - val_acc: 0.7090\n",
      "Epoch 3/20\n",
      "7982/7982 [==============================] - 1s 123us/step - loss: 1.0997 - acc: 0.7641 - val_loss: 1.1717 - val_acc: 0.7430\n",
      "Epoch 4/20\n",
      "7982/7982 [==============================] - 1s 107us/step - loss: 0.8718 - acc: 0.8165 - val_loss: 1.0793 - val_acc: 0.7590\n",
      "Epoch 5/20\n",
      "7982/7982 [==============================] - 1s 147us/step - loss: 0.7044 - acc: 0.8472 - val_loss: 0.9833 - val_acc: 0.7860\n",
      "Epoch 6/20\n",
      "7982/7982 [==============================] - 1s 120us/step - loss: 0.5675 - acc: 0.8796 - val_loss: 0.9377 - val_acc: 0.8030\n",
      "Epoch 7/20\n",
      "7982/7982 [==============================] - 1s 138us/step - loss: 0.4599 - acc: 0.9037 - val_loss: 0.9066 - val_acc: 0.8020\n",
      "Epoch 8/20\n",
      "7982/7982 [==============================] - 1s 139us/step - loss: 0.3704 - acc: 0.9232 - val_loss: 0.9331 - val_acc: 0.7920\n",
      "Epoch 9/20\n",
      "7982/7982 [==============================] - 1s 134us/step - loss: 0.3032 - acc: 0.9310 - val_loss: 0.8887 - val_acc: 0.8080\n",
      "Epoch 10/20\n",
      "7982/7982 [==============================] - 1s 129us/step - loss: 0.2536 - acc: 0.9420 - val_loss: 0.9057 - val_acc: 0.8140\n",
      "Epoch 11/20\n",
      "7982/7982 [==============================] - 1s 163us/step - loss: 0.2179 - acc: 0.9475 - val_loss: 0.9135 - val_acc: 0.8120\n",
      "Epoch 12/20\n",
      "7982/7982 [==============================] - 1s 137us/step - loss: 0.1869 - acc: 0.9513 - val_loss: 0.9033 - val_acc: 0.8150\n",
      "Epoch 13/20\n",
      "7982/7982 [==============================] - 1s 140us/step - loss: 0.1693 - acc: 0.9523 - val_loss: 0.9332 - val_acc: 0.8100\n",
      "Epoch 14/20\n",
      "7982/7982 [==============================] - 1s 120us/step - loss: 0.1529 - acc: 0.9557 - val_loss: 0.9645 - val_acc: 0.8060\n",
      "Epoch 15/20\n",
      "7982/7982 [==============================] - 1s 137us/step - loss: 0.1385 - acc: 0.9558 - val_loss: 0.9686 - val_acc: 0.8130\n",
      "Epoch 16/20\n",
      "7982/7982 [==============================] - 1s 150us/step - loss: 0.1314 - acc: 0.9563 - val_loss: 1.0239 - val_acc: 0.8060\n",
      "Epoch 17/20\n",
      "7982/7982 [==============================] - 1s 126us/step - loss: 0.1215 - acc: 0.9577 - val_loss: 1.0218 - val_acc: 0.7980\n",
      "Epoch 18/20\n",
      "7982/7982 [==============================] - 1s 138us/step - loss: 0.1195 - acc: 0.9579 - val_loss: 1.0389 - val_acc: 0.8050\n",
      "Epoch 19/20\n",
      "7982/7982 [==============================] - 1s 147us/step - loss: 0.1137 - acc: 0.9593 - val_loss: 1.0902 - val_acc: 0.7980\n",
      "Epoch 20/20\n",
      "7982/7982 [==============================] - 1s 129us/step - loss: 0.1103 - acc: 0.9598 - val_loss: 1.0634 - val_acc: 0.8020\n"
     ]
    }
   ],
   "source": [
    "history = network.fit(\n",
    "    x_train,\n",
    "    y_train,\n",
    "    epochs=20,\n",
    "    batch_size=512,\n",
    "    validation_data=(x_val, y_val)\n",
    ")"
   ]
  },
  {
   "cell_type": "code",
   "execution_count": 15,
   "metadata": {},
   "outputs": [],
   "source": [
    "def adjust_axes(axis_obj, x_label_fontsize, y_label_fontsize, x_label_rotation=0, y_label_rotation=0):\n",
    "    for tick in axis_obj.xaxis.get_major_ticks():\n",
    "        tick.label.set_fontsize(x_label_fontsize)\n",
    "    for tick in axis_obj.yaxis.get_major_ticks():\n",
    "        tick.label.set_fontsize(y_label_fontsize)\n",
    "    for tick in axis_obj.xaxis.get_major_ticks():\n",
    "        tick.label.set_rotation(x_label_rotation)\n",
    "    for tick in axis_obj.yaxis.get_major_ticks():\n",
    "        tick.label.set_rotation(y_label_rotation)        "
   ]
  },
  {
   "cell_type": "code",
   "execution_count": 16,
   "metadata": {},
   "outputs": [
    {
     "data": {
      "text/plain": [
       "dict_keys(['val_loss', 'val_acc', 'loss', 'acc'])"
      ]
     },
     "execution_count": 16,
     "metadata": {},
     "output_type": "execute_result"
    }
   ],
   "source": [
    "history.history.keys()"
   ]
  },
  {
   "cell_type": "code",
   "execution_count": 17,
   "metadata": {},
   "outputs": [
    {
     "data": {
      "image/png": "[encoded data removed]",
      "text/plain": [
       "<Figure size 1296x540 with 2 Axes>"
      ]
     },
     "metadata": {
      "needs_background": "light"
     },
     "output_type": "display_data"
    }
   ],
   "source": [
    "FONTSIZE = 23\n",
    "plt.close('all')\n",
    "fig = plt.figure(figsize=(18, 7.5))\n",
    "gs = matplotlib.gridspec.GridSpec(1, 2, width_ratios=[1, 1])\n",
    "\n",
    "epochs = range(1, len(history.history['loss']) + 1)\n",
    "\n",
    "# plot loss function\n",
    "train_loss = history.history['loss']\n",
    "val_loss = history.history['val_loss']\n",
    "ax = plt.subplot(gs[0, 0])\n",
    "ax.plot(epochs, train_loss, marker='o', label='training loss')\n",
    "ax.plot(epochs, val_loss, marker='x', label='validation loss')\n",
    "ax.set_xlabel('epoch', fontsize=FONTSIZE, labelpad=15)\n",
    "ax.set_ylabel('Loss', fontsize=FONTSIZE, labelpad=15)\n",
    "ax.set_xticks(np.arange(1, len(epochs)+1, 2))\n",
    "adjust_axes(ax, FONTSIZE, FONTSIZE, 0, 0)\n",
    "ax.legend(loc='best', fontsize=FONTSIZE*0.85)\n",
    "ax.set_title('Loss fucntion', fontsize=FONTSIZE)\n",
    "\n",
    "\n",
    "# plot acuracy\n",
    "train_acuracy = history.history['acc']\n",
    "val_accuracy = history.history['val_acc']\n",
    "ax = plt.subplot(gs[0, 1])\n",
    "ax.plot(epochs, train_acuracy, marker='o', label='training acc.')\n",
    "ax.plot(epochs, val_accuracy, marker='x', label='validation acc.')\n",
    "ax.set_xlabel('epoch', fontsize=FONTSIZE, labelpad=15)\n",
    "ax.set_ylabel('Accuracy', fontsize=FONTSIZE, labelpad=15)\n",
    "ax.set_xticks(np.arange(1, len(epochs)+1, 2))\n",
    "adjust_axes(ax, FONTSIZE, FONTSIZE, 0, 0)\n",
    "ax.legend(loc='best', fontsize=FONTSIZE*0.85)\n",
    "ax.set_title('Accuracy', fontsize=FONTSIZE)\n",
    "\n",
    "plt.tight_layout(w_pad=3.0, h_pad=1)"
   ]
  },
  {
   "cell_type": "markdown",
   "metadata": {},
   "source": [
    "### Use 9 epochs to train another model"
   ]
  },
  {
   "cell_type": "code",
   "execution_count": 18,
   "metadata": {},
   "outputs": [
    {
     "name": "stdout",
     "output_type": "stream",
     "text": [
      "Epoch 1/9\n",
      "7982/7982 [==============================] - 2s 195us/step - loss: 2.5396 - acc: 0.5226\n",
      "Epoch 2/9\n",
      "7982/7982 [==============================] - 1s 110us/step - loss: 1.3722 - acc: 0.7117\n",
      "Epoch 3/9\n",
      "7982/7982 [==============================] - 1s 137us/step - loss: 1.0162 - acc: 0.7793\n",
      "Epoch 4/9\n",
      "7982/7982 [==============================] - 1s 98us/step - loss: 0.8001 - acc: 0.8244\n",
      "Epoch 5/9\n",
      "7982/7982 [==============================] - 1s 127us/step - loss: 0.6412 - acc: 0.8619\n",
      "Epoch 6/9\n",
      "7982/7982 [==============================] - 1s 129us/step - loss: 0.5137 - acc: 0.8916\n",
      "Epoch 7/9\n",
      "7982/7982 [==============================] - 1s 124us/step - loss: 0.4129 - acc: 0.9138\n",
      "Epoch 8/9\n",
      "7982/7982 [==============================] - 1s 126us/step - loss: 0.3359 - acc: 0.9281\n",
      "Epoch 9/9\n",
      "7982/7982 [==============================] - 1s 126us/step - loss: 0.2786 - acc: 0.9375\n"
     ]
    },
    {
     "data": {
      "text/plain": [
       "<keras.callbacks.History at 0x13a6e7400>"
      ]
     },
     "execution_count": 18,
     "metadata": {},
     "output_type": "execute_result"
    }
   ],
   "source": [
    "model = models.Sequential()\n",
    "model.add(layers.Dense(64, activation='relu', input_shape=(10000,)))\n",
    "model.add(layers.Dense(64, activation='relu'))\n",
    "model.add(layers.Dense(46, activation='softmax'))\n",
    "\n",
    "model.compile(\n",
    "    optimizer='rmsprop',\n",
    "    loss='categorical_crossentropy',\n",
    "    metrics=['accuracy']\n",
    ")\n",
    "\n",
    "model.fit(\n",
    "    x_train,\n",
    "    y_train,\n",
    "    epochs=9,\n",
    "    batch_size=512    \n",
    ")\n"
   ]
  },
  {
   "cell_type": "code",
   "execution_count": 19,
   "metadata": {},
   "outputs": [
    {
     "name": "stdout",
     "output_type": "stream",
     "text": [
      "2246/2246 [==============================] - 0s 143us/step\n"
     ]
    },
    {
     "data": {
      "text/plain": [
       "[1.0219570329331544, 0.7769367765446168]"
      ]
     },
     "execution_count": 19,
     "metadata": {},
     "output_type": "execute_result"
    }
   ],
   "source": [
    "results = model.evaluate(x_test, y_test)\n",
    "results"
   ]
  },
  {
   "cell_type": "code",
   "execution_count": 20,
   "metadata": {},
   "outputs": [],
   "source": [
    "predict_test = model.predict(x_test)"
   ]
  },
  {
   "cell_type": "code",
   "execution_count": 21,
   "metadata": {},
   "outputs": [
    {
     "data": {
      "text/plain": [
       "(2246, 46)"
      ]
     },
     "execution_count": 21,
     "metadata": {},
     "output_type": "execute_result"
    }
   ],
   "source": [
    "predict_test.shape"
   ]
  },
  {
   "cell_type": "code",
   "execution_count": 22,
   "metadata": {},
   "outputs": [
    {
     "data": {
      "text/plain": [
       "0.99999964"
      ]
     },
     "execution_count": 22,
     "metadata": {},
     "output_type": "execute_result"
    }
   ],
   "source": [
    "np.sum(predict_test[0])"
   ]
  },
  {
   "cell_type": "code",
   "execution_count": 23,
   "metadata": {},
   "outputs": [
    {
     "data": {
      "text/plain": [
       "(3, 3)"
      ]
     },
     "execution_count": 23,
     "metadata": {},
     "output_type": "execute_result"
    }
   ],
   "source": [
    "np.argmax(predict_test[0]), test_labels[0]"
   ]
  },
  {
   "cell_type": "code",
   "execution_count": null,
   "metadata": {},
   "outputs": [],
   "source": []
  }
 ],
 "metadata": {
  "kernelspec": {
   "display_name": "Python 3",
   "language": "python",
   "name": "python3"
  },
  "language_info": {
   "codemirror_mode": {
    "name": "ipython",
    "version": 3
   },
   "file_extension": ".py",
   "mimetype": "text/x-python",
   "name": "python",
   "nbconvert_exporter": "python",
   "pygments_lexer": "ipython3",
   "version": "3.6.7"
  }
 },
 "nbformat": 4,
 "nbformat_minor": 2
}
