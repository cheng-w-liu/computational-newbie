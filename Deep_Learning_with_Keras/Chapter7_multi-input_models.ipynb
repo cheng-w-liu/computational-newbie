{
 "cells": [
  {
   "cell_type": "code",
   "execution_count": 1,
   "metadata": {},
   "outputs": [],
   "source": [
    "import os\n",
    "os.environ['KERAS_BACKEND'] = 'tensorflow'"
   ]
  },
  {
   "cell_type": "code",
   "execution_count": 36,
   "metadata": {},
   "outputs": [],
   "source": [
    "from keras import Input\n",
    "from keras import layers\n",
    "from keras.models import Model\n",
    "from keras.optimizers import RMSprop\n",
    "import numpy as np\n",
    "from sklearn.preprocessing import OneHotEncoder "
   ]
  },
  {
   "cell_type": "code",
   "execution_count": 30,
   "metadata": {},
   "outputs": [],
   "source": [
    "text_vocab_size = 10000\n",
    "question_vocab_size = 10000\n",
    "answer_vocab_size = 10"
   ]
  },
  {
   "cell_type": "code",
   "execution_count": 39,
   "metadata": {},
   "outputs": [],
   "source": [
    "text_input = Input(shape=(None,), dtype='int32', name='text')\n",
    "embedded_text = layers.Embedding(\n",
    "    input_dim=text_vocab_size,\n",
    "    output_dim=64\n",
    ")(text_input)\n",
    "encoded_text = layers.LSTM(32)(embedded_text)\n",
    "\n",
    "question_input = Input(shape=(None,), dtype='int32', name='question')\n",
    "embedded_question = layers.Embedding(\n",
    "    input_dim=question_vocab_size,\n",
    "    output_dim=64\n",
    ")(question_input)\n",
    "encoded_question = layers.LSTM(32)(embedded_question)\n",
    "\n",
    "concatenated_encoding = layers.concatenate([encoded_text, encoded_question], axis=-1)\n",
    "\n",
    "target = layers.Dense(answer_vocab_size, activation='softmax')(concatenated_encoding)\n",
    "\n",
    "model = Model([text_input, question_input], target)\n",
    "model.compile(optimizer=RMSprop(), loss='categorical_crossentropy', metrics=['acc'])\n"
   ]
  },
  {
   "cell_type": "code",
   "execution_count": 46,
   "metadata": {},
   "outputs": [],
   "source": [
    "num_samples = 1000\n",
    "max_length = 100\n",
    "\n",
    "text = np.random.randint(\n",
    "    low=0, \n",
    "    high=text_vocab_size, \n",
    "    size=(num_samples, max_length)\n",
    ")\n",
    "\n",
    "question = np.random.randint(\n",
    "    low=0,\n",
    "    high=question_vocab_size,\n",
    "    size=(num_samples, max_length)\n",
    ")\n",
    "\n",
    "answers = np.random.randint(\n",
    "    low=0,\n",
    "    high=answer_vocab_size,\n",
    "    size=(num_samples,)\n",
    ").reshape(-1, 1)\n",
    "\n",
    "one_hot_encoder = OneHotEncoder(categories='auto')\n",
    "one_hot_encoded_answers = one_hot_encoder.fit_transform(answers)#.todense()\n"
   ]
  },
  {
   "cell_type": "code",
   "execution_count": 47,
   "metadata": {},
   "outputs": [
    {
     "name": "stdout",
     "output_type": "stream",
     "text": [
      "WARNING:tensorflow:From /Users/chengweiliu/anaconda/envs/tfenv/lib/python3.6/site-packages/tensorflow/python/ops/math_ops.py:3066: to_int32 (from tensorflow.python.ops.math_ops) is deprecated and will be removed in a future version.\n",
      "Instructions for updating:\n",
      "Use tf.cast instead.\n",
      "Epoch 1/10\n",
      "1000/1000 [==============================] - 7s 7ms/step - loss: 2.3021 - acc: 0.0980\n",
      "Epoch 2/10\n",
      "1000/1000 [==============================] - 3s 3ms/step - loss: 2.2652 - acc: 0.2390\n",
      "Epoch 3/10\n",
      "1000/1000 [==============================] - 3s 3ms/step - loss: 2.2229 - acc: 0.2890\n",
      "Epoch 4/10\n",
      "1000/1000 [==============================] - 3s 3ms/step - loss: 1.9710 - acc: 0.4720\n",
      "Epoch 5/10\n",
      "1000/1000 [==============================] - 3s 3ms/step - loss: 1.7149 - acc: 0.6280\n",
      "Epoch 6/10\n",
      "1000/1000 [==============================] - 3s 3ms/step - loss: 1.4902 - acc: 0.6750\n",
      "Epoch 7/10\n",
      "1000/1000 [==============================] - 3s 3ms/step - loss: 1.3483 - acc: 0.8080\n",
      "Epoch 8/10\n",
      "1000/1000 [==============================] - 3s 3ms/step - loss: 1.2275 - acc: 0.8280\n",
      "Epoch 9/10\n",
      "1000/1000 [==============================] - 3s 3ms/step - loss: 1.1433 - acc: 0.8530\n",
      "Epoch 10/10\n",
      "1000/1000 [==============================] - 4s 4ms/step - loss: 1.0111 - acc: 0.8760\n"
     ]
    }
   ],
   "source": [
    "history = model.fit([text, question], one_hot_encoded_answers, epochs=10, batch_size=128)"
   ]
  },
  {
   "cell_type": "code",
   "execution_count": null,
   "metadata": {},
   "outputs": [],
   "source": []
  }
 ],
 "metadata": {
  "kernelspec": {
   "display_name": "Python 3",
   "language": "python",
   "name": "python3"
  },
  "language_info": {
   "codemirror_mode": {
    "name": "ipython",
    "version": 3
   },
   "file_extension": ".py",
   "mimetype": "text/x-python",
   "name": "python",
   "nbconvert_exporter": "python",
   "pygments_lexer": "ipython3",
   "version": "3.6.7"
  }
 },
 "nbformat": 4,
 "nbformat_minor": 2
}
