{
 "cells": [
  {
   "cell_type": "markdown",
   "metadata": {},
   "source": [
    "References:\n",
    "\n",
    "[1] https://stats.stackexchange.com/questions/134282/relationship-between-svd-and-pca-how-to-use-svd-to-perform-pca"
   ]
  },
  {
   "cell_type": "code",
   "execution_count": 1,
   "metadata": {},
   "outputs": [],
   "source": [
    "import numpy as np\n",
    "from sklearn.decomposition import PCA\n",
    "from sklearn import datasets"
   ]
  },
  {
   "cell_type": "code",
   "execution_count": 2,
   "metadata": {},
   "outputs": [],
   "source": [
    "import matplotlib.pyplot as plt\n",
    "import matplotlib\n",
    "matplotlib.style.use('ggplot')\n",
    "%matplotlib inline"
   ]
  },
  {
   "cell_type": "markdown",
   "metadata": {},
   "source": [
    "# Part I. Synthetic data"
   ]
  },
  {
   "cell_type": "code",
   "execution_count": 3,
   "metadata": {},
   "outputs": [],
   "source": [
    "np.random.seed(42)"
   ]
  },
  {
   "cell_type": "code",
   "execution_count": 4,
   "metadata": {},
   "outputs": [],
   "source": [
    "N = 7   # num of examples\n",
    "D = 4   # feature dimension\n",
    "X = np.random.normal(size=(N, D))\n",
    "\n",
    "# standardize X\n",
    "mu = X.mean(axis=0, keepdims=True)\n",
    "std = X.std(axis=0, keepdims=True)\n",
    "X = (X - mu) / std"
   ]
  },
  {
   "cell_type": "code",
   "execution_count": 5,
   "metadata": {},
   "outputs": [
    {
     "data": {
      "text/plain": [
       "array([[ 0.6636078 ,  0.11092274,  0.88283497,  1.64765529],\n",
       "       [-0.29721033, -0.0183429 ,  1.77028729,  0.91286294],\n",
       "       [-0.60656967,  1.02888199, -0.17570298, -0.28635049],\n",
       "       [ 0.32870412, -2.28234114, -1.37751945, -0.38024987],\n",
       "       [-1.32088106,  0.72104669, -0.5992743 , -1.20686369],\n",
       "       [ 1.93739533, -0.00707018,  0.33012298, -1.21896556],\n",
       "       [-0.70504619,  0.44690281, -0.83074851,  0.53191139]])"
      ]
     },
     "execution_count": 5,
     "metadata": {},
     "output_type": "execute_result"
    }
   ],
   "source": [
    "X"
   ]
  },
  {
   "cell_type": "markdown",
   "metadata": {},
   "source": [
    "## 1. Singular Value Decomposition (SVD)"
   ]
  },
  {
   "cell_type": "markdown",
   "metadata": {},
   "source": [
    "### use economy-sized SVD"
   ]
  },
  {
   "cell_type": "code",
   "execution_count": 6,
   "metadata": {},
   "outputs": [],
   "source": [
    "U, s, Vt = np.linalg.svd(X, full_matrices=False, compute_uv=True)\n",
    "V = Vt.T\n",
    "S = np.diag(s)"
   ]
  },
  {
   "cell_type": "code",
   "execution_count": 7,
   "metadata": {},
   "outputs": [
    {
     "name": "stdout",
     "output_type": "stream",
     "text": [
      "U shape: (7, 4)\n",
      "S shape: (4, 4)\n",
      "V shape: (4, 4)\n"
     ]
    }
   ],
   "source": [
    "print(f'U shape: {U.shape}')\n",
    "print(f'S shape: {S.shape}')\n",
    "print(f'V shape: {V.shape}')"
   ]
  },
  {
   "cell_type": "markdown",
   "metadata": {},
   "source": [
    "### Check that $X = U S V^T$"
   ]
  },
  {
   "cell_type": "code",
   "execution_count": 8,
   "metadata": {},
   "outputs": [
    {
     "data": {
      "text/plain": [
       "True"
      ]
     },
     "execution_count": 8,
     "metadata": {},
     "output_type": "execute_result"
    }
   ],
   "source": [
    "np.allclose(X, U.dot(S).dot(V.T))"
   ]
  },
  {
   "cell_type": "markdown",
   "metadata": {},
   "source": [
    "## 2. Principal Component Analysis (PCA)"
   ]
  },
  {
   "cell_type": "markdown",
   "metadata": {},
   "source": [
    "First, constrcut the covariance matrix. Also check with manual construction"
   ]
  },
  {
   "cell_type": "code",
   "execution_count": 9,
   "metadata": {},
   "outputs": [],
   "source": [
    "C = np.cov(X, rowvar=False) "
   ]
  },
  {
   "cell_type": "code",
   "execution_count": 10,
   "metadata": {},
   "outputs": [
    {
     "data": {
      "text/plain": [
       "True"
      ]
     },
     "execution_count": 10,
     "metadata": {},
     "output_type": "execute_result"
    }
   ],
   "source": [
    "np.allclose(C, (1./(N-1)) * X.T.dot(X))"
   ]
  },
  {
   "cell_type": "code",
   "execution_count": 11,
   "metadata": {},
   "outputs": [],
   "source": [
    "eig_vals, eig_vecs = np.linalg.eig(C)"
   ]
  },
  {
   "cell_type": "code",
   "execution_count": 12,
   "metadata": {},
   "outputs": [],
   "source": [
    "sorted_idx = np.argsort(eig_vals)[::-1]\n",
    "eig_vals = eig_vals[sorted_idx]\n",
    "eig_vecs = eig_vecs[:, sorted_idx]"
   ]
  },
  {
   "cell_type": "markdown",
   "metadata": {},
   "source": [
    "## 3. SVD vs PCA"
   ]
  },
  {
   "cell_type": "markdown",
   "metadata": {},
   "source": [
    "### 1) Check that the left singular vectors (the column vectors in $V$) are the same as the eigenvectors of the Covariance matrix $\\Sigma = \\frac{1}{N-1} X^T X $"
   ]
  },
  {
   "cell_type": "code",
   "execution_count": 13,
   "metadata": {},
   "outputs": [
    {
     "data": {
      "text/plain": [
       "True"
      ]
     },
     "execution_count": 13,
     "metadata": {},
     "output_type": "execute_result"
    }
   ],
   "source": [
    "np.allclose(eig_vecs, V) or np.allclose(eig_vecs, -V)"
   ]
  },
  {
   "cell_type": "markdown",
   "metadata": {},
   "source": [
    "### 2) Check that the eigenvalues of the covariance matrix $\\Sigma$, $\\lambda_i$'s, are the scaled singular values. Specifically, $\\lambda_i = \\frac{1}{N-1} \\sigma_i^2$"
   ]
  },
  {
   "cell_type": "code",
   "execution_count": 14,
   "metadata": {},
   "outputs": [
    {
     "data": {
      "text/plain": [
       "True"
      ]
     },
     "execution_count": 14,
     "metadata": {},
     "output_type": "execute_result"
    }
   ],
   "source": [
    "np.allclose(eig_vals, np.power(s, 2)/(N-1))"
   ]
  },
  {
   "cell_type": "markdown",
   "metadata": {},
   "source": [
    "### 3) In PCA, we choose $L$ basis vectors $\\{w_j \\in \\mathbb{R}^D, j=1, \\dots,L  \\}$ to approximate the original data matrix $X$. We can pack the basis vectors in a matrix $\\hat{W} = \\big( w_1, w_2, \\dots, w_L\\big)$. \n",
    "\n",
    "$\\hat{x}^{(i)} = \\hat{W} z^{(i)}$, where $z^{(i)} \\in \\mathbb{R}^L$ is the loading in the space spanned by $\\hat{W}$. \n",
    "\n",
    "Or in matrix form, $\\hat{X}^T = \\hat{W} Z^T$\n",
    "\n",
    "### Vetify that $Z = \\hat{X} \\hat{W} = U_{:,1:L} S_{1:L, 1:L}$"
   ]
  },
  {
   "cell_type": "code",
   "execution_count": 15,
   "metadata": {},
   "outputs": [
    {
     "data": {
      "text/plain": [
       "True"
      ]
     },
     "execution_count": 15,
     "metadata": {},
     "output_type": "execute_result"
    }
   ],
   "source": [
    "np.allclose(\n",
    "    X.dot(eig_vecs), \n",
    "    U.dot(S)\n",
    ") or \\\n",
    "np.allclose(\n",
    "    X.dot(eig_vecs), \n",
    "    -U.dot(S)\n",
    ")"
   ]
  },
  {
   "cell_type": "code",
   "execution_count": 16,
   "metadata": {},
   "outputs": [],
   "source": [
    "L = 3"
   ]
  },
  {
   "cell_type": "code",
   "execution_count": 17,
   "metadata": {},
   "outputs": [
    {
     "data": {
      "text/plain": [
       "True"
      ]
     },
     "execution_count": 17,
     "metadata": {},
     "output_type": "execute_result"
    }
   ],
   "source": [
    "np.allclose(\n",
    "    X.dot(eig_vecs[:, :L]), \n",
    "    U[:,:L].dot(S[:L,:L]) \n",
    ") or \\\n",
    "np.allclose(\n",
    "    X.dot(eig_vecs[:, :L]), \n",
    "    -U[:,:L].dot(S[:L,:L])\n",
    ")\n"
   ]
  },
  {
   "cell_type": "markdown",
   "metadata": {},
   "source": [
    "## 4. Manual PCA vs scikit-learn's PCA"
   ]
  },
  {
   "cell_type": "code",
   "execution_count": 18,
   "metadata": {},
   "outputs": [
    {
     "data": {
      "text/plain": [
       "PCA(n_components=3)"
      ]
     },
     "execution_count": 18,
     "metadata": {},
     "output_type": "execute_result"
    }
   ],
   "source": [
    "pca = PCA(n_components=L)\n",
    "pca.fit(X)"
   ]
  },
  {
   "cell_type": "markdown",
   "metadata": {},
   "source": [
    "### 1) Check eigenvectors"
   ]
  },
  {
   "cell_type": "code",
   "execution_count": 19,
   "metadata": {},
   "outputs": [
    {
     "data": {
      "text/plain": [
       "True"
      ]
     },
     "execution_count": 19,
     "metadata": {},
     "output_type": "execute_result"
    }
   ],
   "source": [
    "np.allclose(pca.components_, eig_vecs[:, :L].T) or np.allclose(pca.components_, -eig_vecs[:, :L].T) \n"
   ]
  },
  {
   "cell_type": "markdown",
   "metadata": {},
   "source": [
    "### 2) Check eigenvalues"
   ]
  },
  {
   "cell_type": "code",
   "execution_count": 20,
   "metadata": {},
   "outputs": [
    {
     "data": {
      "text/plain": [
       "True"
      ]
     },
     "execution_count": 20,
     "metadata": {},
     "output_type": "execute_result"
    }
   ],
   "source": [
    "np.allclose(pca.explained_variance_, eig_vals[:L])"
   ]
  },
  {
   "cell_type": "markdown",
   "metadata": {},
   "source": [
    "### 3) Check loading $Z$"
   ]
  },
  {
   "cell_type": "code",
   "execution_count": 21,
   "metadata": {},
   "outputs": [],
   "source": [
    "Z = X.dot(eig_vecs[:, :L])"
   ]
  },
  {
   "cell_type": "code",
   "execution_count": 22,
   "metadata": {},
   "outputs": [
    {
     "data": {
      "text/plain": [
       "True"
      ]
     },
     "execution_count": 22,
     "metadata": {},
     "output_type": "execute_result"
    }
   ],
   "source": [
    "np.allclose(pca.transform(X), Z) or np.allclose(pca.transform(X), -Z)"
   ]
  },
  {
   "cell_type": "markdown",
   "metadata": {},
   "source": [
    "### 4) Check reconstructed $X$, $\\hat{X} = Z \\hat{W}^T$"
   ]
  },
  {
   "cell_type": "code",
   "execution_count": 23,
   "metadata": {},
   "outputs": [],
   "source": [
    "X_hat = Z.dot(eig_vecs[:,:L].T)"
   ]
  },
  {
   "cell_type": "code",
   "execution_count": 24,
   "metadata": {},
   "outputs": [
    {
     "data": {
      "text/plain": [
       "True"
      ]
     },
     "execution_count": 24,
     "metadata": {},
     "output_type": "execute_result"
    }
   ],
   "source": [
    "np.allclose(pca.inverse_transform(Z), X_hat) or np.allclose(pca.inverse_transform(Z), -X_hat)\n"
   ]
  },
  {
   "cell_type": "markdown",
   "metadata": {},
   "source": [
    "# Part II. Iris data"
   ]
  },
  {
   "cell_type": "code",
   "execution_count": 25,
   "metadata": {},
   "outputs": [],
   "source": [
    "iris = datasets.load_iris()\n",
    "X_iris = iris.data\n",
    "y_iris = iris.target"
   ]
  },
  {
   "cell_type": "code",
   "execution_count": 26,
   "metadata": {},
   "outputs": [],
   "source": [
    "pca_iris = PCA(n_components=2) \n",
    "Z_iris = pca_iris.fit_transform(X_iris)"
   ]
  },
  {
   "cell_type": "code",
   "execution_count": 27,
   "metadata": {},
   "outputs": [
    {
     "data": {
      "image/png": "[encoded data removed]",
      "text/plain": [
       "<Figure size 1152x432 with 2 Axes>"
      ]
     },
     "metadata": {
      "needs_background": "light"
     },
     "output_type": "display_data"
    }
   ],
   "source": [
    "red = '#F15854'\n",
    "blue = '#5DA5DA'\n",
    "orange = '#FAA43A'\n",
    "colors = np.array([red, blue, orange])\n",
    "\n",
    "fontsize = 20\n",
    "\n",
    "plt.close('all')\n",
    "fig = plt.figure(figsize=(16, 6))\n",
    "gs = matplotlib.gridspec.GridSpec(1, 2)\n",
    "\n",
    "ax = plt.subplot(gs[0, 0])\n",
    "for cls, color in enumerate(colors):\n",
    "    indices = np.arange(len(X_iris))[y_iris == cls]\n",
    "    ax.scatter(\n",
    "        X_iris[indices, 0],\n",
    "        X_iris[indices, 1],\n",
    "        c=color,\n",
    "        label=iris.target_names[cls]\n",
    "    )\n",
    "ax.set_xlabel(r'$X_1$', fontsize=fontsize, labelpad=15)    \n",
    "ax.set_ylabel(r'$X_2$', fontsize=fontsize, labelpad=15)    \n",
    "ax.legend(loc='best', fontsize=fontsize*0.9)\n",
    "ax.set_title(r'Iris data, plot $X_1$ and $X_2$', fontsize=fontsize)\n",
    "\n",
    "\n",
    "\n",
    "ax = plt.subplot(gs[0, 1])\n",
    "for cls, color in enumerate(colors):\n",
    "    indices = np.arange(len(X_iris))[y_iris == cls]\n",
    "    ax.scatter(\n",
    "        Z_iris[indices, 0],\n",
    "        Z_iris[indices, 1],\n",
    "        c=color,\n",
    "        label=iris.target_names[cls]\n",
    "    )\n",
    "ax.set_xlabel(r'$Z_1$', fontsize=fontsize, labelpad=15)    \n",
    "ax.set_ylabel(r'$Z_2$', fontsize=fontsize, labelpad=15)        \n",
    "ax.legend(loc='best', fontsize=fontsize*0.9)\n",
    "ax.set_title(r'PCA Iris data, plot $Z_1$ and $Z_2$', fontsize=fontsize)\n",
    "\n",
    "plt.tight_layout(pad=0, w_pad=3.0, h_pad=0)"
   ]
  },
  {
   "cell_type": "code",
   "execution_count": null,
   "metadata": {},
   "outputs": [],
   "source": []
  }
 ],
 "metadata": {
  "kernelspec": {
   "display_name": "Python 3",
   "language": "python",
   "name": "python3"
  },
  "language_info": {
   "codemirror_mode": {
    "name": "ipython",
    "version": 3
   },
   "file_extension": ".py",
   "mimetype": "text/x-python",
   "name": "python",
   "nbconvert_exporter": "python",
   "pygments_lexer": "ipython3",
   "version": "3.8.0"
  }
 },
 "nbformat": 4,
 "nbformat_minor": 4
}
