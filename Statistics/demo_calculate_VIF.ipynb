{
 "cells": [
  {
   "cell_type": "markdown",
   "metadata": {},
   "source": [
    "- In this notebook, we demonstrate how to calculate the Variance Inflation Factor (VIF) (Ref[1]), which is a useful metric to measure if multicollinearity (Ref[2]) exists in a regression problem. \n",
    "\n",
    "- We use the blood pressure data set provided in Ref[3] as an example. The data set has 1 target (BP) and 6 predictors (Age, Weight, BSA, Dur, Pulse, Streee). Some discussion about the data set can be found in Ref[4]\n",
    "\n"
   ]
  },
  {
   "cell_type": "markdown",
   "metadata": {},
   "source": [
    "- For a Ordinal Least Square Linear Regression, one can show that the estimated coefficient $\\hat\\beta$ and the variance $Var(\\hat\\beta)$ can be written as (cf. Ref[5])\n",
    "\n",
    "$\n",
    "\\hat\\beta = (X^T X)^{-1} X^T \\vec{y}  \\hspace{500pt}\n",
    "$\n",
    "\n",
    "$\n",
    "Var(\\hat\\beta) = \\sigma^2 (X^T X)^{-1} \\hspace{500pt}\n",
    "$\n",
    "\n",
    "Where $\\sigma$ refers to the standard deviation of the target $\\vec{y}$.\n",
    "\n",
    "- One can show that the variances of the individual components are:\n",
    "\n",
    "$\n",
    "\\dfrac{Var(\\hat\\beta_j)}{\\sigma^2} = \\vec{x_j}^T \\vec{x_j} \\big[ \\vec{x_j}^T \\vec{x_j} - (\\vec{x_j}^T X_{-j}) (X_{-j}^T X_{-j})^{-1} (X_{-j}^T \\vec{x_j})  \\big]^{-1} \\hspace{500pt}\n",
    "$\n",
    "\n",
    "where $\\vec{x_j}$ is the jth column of the design matrix X, and $X_{-j}$ stands for $X$ with the jth column removed.\n",
    "\n",
    "Notice that we do not assume each column of X be unit-vector scaled, that's why we have a $\\vec{x_j}^T \\vec{x_j}$ in the beginning of the expression to conform with the standard expression (Ref[6]).\n",
    "\n",
    "- The above expression is actually the definition of VIF for jth component, and assuming that **the feature vectors are centered**, one can show that: (Ref[7])\n",
    "\n",
    "$\n",
    "VIF_j \\equiv \\dfrac{Var(\\hat\\beta_j)}{\\sigma^2} = \\dfrac{1}{1 - R^2_{-j}}  \\hspace{500pt}\n",
    "$\n",
    "\n",
    "where $R^2_{-j}$ is the R-squared based on doing regression of $\\vec{x_j}$ on the rest of the predictors $X_{-j}$.\n",
    "\n"
   ]
  },
  {
   "cell_type": "markdown",
   "metadata": {},
   "source": [
    "- References:\n",
    "\n",
    "[1] https://en.wikipedia.org/wiki/Variance_inflation_factor\n",
    "\n",
    "[2] https://en.wikipedia.org/wiki/Multicollinearity\n",
    "\n",
    "[3] http://sites.stat.psu.edu/~lsimon/stat501wc/sp05/data/\n",
    "\n",
    "[4] https://onlinecourses.science.psu.edu/stat501/node/347\n",
    "\n",
    "[5] Chapter 3 of Elements of Statistical Learning, ,Trevor Hastie, Jerome H. Friedman, Robert Tibshirani\n",
    "\n",
    "[6] http://stats.stackexchange.com/questions/243315/variance-of-hat-mathbf-beta-j-in-multiple-linear-regression-models\n",
    "\n",
    "[7] http://stats.stackexchange.com/questions/244468/equation-for-the-variance-inflation-factors\n",
    "\n"
   ]
  },
  {
   "cell_type": "code",
   "execution_count": 2,
   "metadata": {
    "collapsed": true
   },
   "outputs": [],
   "source": [
    "import numpy as np\n",
    "import pandas as pd\n",
    "from sklearn.linear_model import LinearRegression\n",
    "from sklearn.metrics import r2_score\n",
    "from statsmodels.stats.outliers_influence import variance_inflation_factor\n",
    "\n",
    "import matplotlib.pyplot as plt\n",
    "import matplotlib\n",
    "%matplotlib inline"
   ]
  },
  {
   "cell_type": "code",
   "execution_count": 3,
   "metadata": {
    "collapsed": false
   },
   "outputs": [],
   "source": [
    "data = pd.read_csv('bloodpress.txt', sep='\\t', header=0)\n",
    "data = data.drop(['Pt'], axis=1)"
   ]
  },
  {
   "cell_type": "code",
   "execution_count": 4,
   "metadata": {
    "collapsed": false
   },
   "outputs": [
    {
     "data": {
      "text/plain": [
       "Index(['BP', 'Age', 'Weight', 'BSA', 'Dur', 'Pulse', 'Stress'], dtype='object')"
      ]
     },
     "execution_count": 4,
     "metadata": {},
     "output_type": "execute_result"
    }
   ],
   "source": [
    "data.columns"
   ]
  },
  {
   "cell_type": "code",
   "execution_count": 5,
   "metadata": {
    "collapsed": true
   },
   "outputs": [],
   "source": [
    "response = 'BP'\n",
    "features = ['Age', 'Weight', 'BSA', 'Dur', 'Pulse', 'Stress']"
   ]
  },
  {
   "cell_type": "code",
   "execution_count": 6,
   "metadata": {
    "collapsed": false
   },
   "outputs": [
    {
     "data": {
      "text/html": [
       "<div>\n",
       "<table border=\"1\" class=\"dataframe\">\n",
       "  <thead>\n",
       "    <tr style=\"text-align: right;\">\n",
       "      <th></th>\n",
       "      <th>Age</th>\n",
       "      <th>Weight</th>\n",
       "      <th>BSA</th>\n",
       "      <th>Dur</th>\n",
       "      <th>Pulse</th>\n",
       "      <th>Stress</th>\n",
       "    </tr>\n",
       "  </thead>\n",
       "  <tbody>\n",
       "    <tr>\n",
       "      <th>Age</th>\n",
       "      <td>1.000000</td>\n",
       "      <td>0.407349</td>\n",
       "      <td>0.378455</td>\n",
       "      <td>0.343792</td>\n",
       "      <td>0.618764</td>\n",
       "      <td>0.368224</td>\n",
       "    </tr>\n",
       "    <tr>\n",
       "      <th>Weight</th>\n",
       "      <td>0.407349</td>\n",
       "      <td>1.000000</td>\n",
       "      <td>0.875305</td>\n",
       "      <td>0.200650</td>\n",
       "      <td>0.659340</td>\n",
       "      <td>0.034355</td>\n",
       "    </tr>\n",
       "    <tr>\n",
       "      <th>BSA</th>\n",
       "      <td>0.378455</td>\n",
       "      <td>0.875305</td>\n",
       "      <td>1.000000</td>\n",
       "      <td>0.130540</td>\n",
       "      <td>0.464819</td>\n",
       "      <td>0.018446</td>\n",
       "    </tr>\n",
       "    <tr>\n",
       "      <th>Dur</th>\n",
       "      <td>0.343792</td>\n",
       "      <td>0.200650</td>\n",
       "      <td>0.130540</td>\n",
       "      <td>1.000000</td>\n",
       "      <td>0.401514</td>\n",
       "      <td>0.311640</td>\n",
       "    </tr>\n",
       "    <tr>\n",
       "      <th>Pulse</th>\n",
       "      <td>0.618764</td>\n",
       "      <td>0.659340</td>\n",
       "      <td>0.464819</td>\n",
       "      <td>0.401514</td>\n",
       "      <td>1.000000</td>\n",
       "      <td>0.506310</td>\n",
       "    </tr>\n",
       "    <tr>\n",
       "      <th>Stress</th>\n",
       "      <td>0.368224</td>\n",
       "      <td>0.034355</td>\n",
       "      <td>0.018446</td>\n",
       "      <td>0.311640</td>\n",
       "      <td>0.506310</td>\n",
       "      <td>1.000000</td>\n",
       "    </tr>\n",
       "  </tbody>\n",
       "</table>\n",
       "</div>"
      ],
      "text/plain": [
       "             Age    Weight       BSA       Dur     Pulse    Stress\n",
       "Age     1.000000  0.407349  0.378455  0.343792  0.618764  0.368224\n",
       "Weight  0.407349  1.000000  0.875305  0.200650  0.659340  0.034355\n",
       "BSA     0.378455  0.875305  1.000000  0.130540  0.464819  0.018446\n",
       "Dur     0.343792  0.200650  0.130540  1.000000  0.401514  0.311640\n",
       "Pulse   0.618764  0.659340  0.464819  0.401514  1.000000  0.506310\n",
       "Stress  0.368224  0.034355  0.018446  0.311640  0.506310  1.000000"
      ]
     },
     "execution_count": 6,
     "metadata": {},
     "output_type": "execute_result"
    }
   ],
   "source": [
    "data[features].corr()"
   ]
  },
  {
   "cell_type": "code",
   "execution_count": 7,
   "metadata": {
    "collapsed": false
   },
   "outputs": [
    {
     "data": {
      "image/png": "[encoded data removed]",
      "text/plain": [
       "<matplotlib.figure.Figure at 0x11d0779e8>"
      ]
     },
     "metadata": {},
     "output_type": "display_data"
    }
   ],
   "source": [
    "sc_mtx = pd.tools.plotting.scatter_matrix(data[features], figsize=(10, 10), diagonal='kde')"
   ]
  },
  {
   "cell_type": "markdown",
   "metadata": {},
   "source": [
    "From the above pair-wise correlation matrix and plots, we can see that Weight and BSA are highly correlated."
   ]
  },
  {
   "cell_type": "markdown",
   "metadata": {},
   "source": [
    "In the following, we will demonstrate how to calculate VIF for each of the predictors, using the two formula shown above, and show that they are equivalent. In addition, the statsmodel package also provides a function to calculate VIF, we will use it as a verification. "
   ]
  },
  {
   "cell_type": "code",
   "execution_count": 9,
   "metadata": {
    "collapsed": false
   },
   "outputs": [
    {
     "data": {
      "text/html": [
       "<div>\n",
       "<table border=\"1\" class=\"dataframe\">\n",
       "  <thead>\n",
       "    <tr style=\"text-align: right;\">\n",
       "      <th></th>\n",
       "      <th>feature</th>\n",
       "      <th>VIF from var</th>\n",
       "      <th>VIF from R2</th>\n",
       "      <th>statsmodel</th>\n",
       "    </tr>\n",
       "  </thead>\n",
       "  <tbody>\n",
       "    <tr>\n",
       "      <th>0</th>\n",
       "      <td>Age</td>\n",
       "      <td>1.762807</td>\n",
       "      <td>1.762807</td>\n",
       "      <td>1.762807</td>\n",
       "    </tr>\n",
       "    <tr>\n",
       "      <th>1</th>\n",
       "      <td>Weight</td>\n",
       "      <td>8.417035</td>\n",
       "      <td>8.417035</td>\n",
       "      <td>8.417035</td>\n",
       "    </tr>\n",
       "    <tr>\n",
       "      <th>2</th>\n",
       "      <td>BSA</td>\n",
       "      <td>5.328751</td>\n",
       "      <td>5.328751</td>\n",
       "      <td>5.328751</td>\n",
       "    </tr>\n",
       "    <tr>\n",
       "      <th>3</th>\n",
       "      <td>Dur</td>\n",
       "      <td>1.237309</td>\n",
       "      <td>1.237309</td>\n",
       "      <td>1.237309</td>\n",
       "    </tr>\n",
       "    <tr>\n",
       "      <th>4</th>\n",
       "      <td>Pulse</td>\n",
       "      <td>4.413575</td>\n",
       "      <td>4.413575</td>\n",
       "      <td>4.413575</td>\n",
       "    </tr>\n",
       "    <tr>\n",
       "      <th>5</th>\n",
       "      <td>Stress</td>\n",
       "      <td>1.834845</td>\n",
       "      <td>1.834845</td>\n",
       "      <td>1.834845</td>\n",
       "    </tr>\n",
       "  </tbody>\n",
       "</table>\n",
       "</div>"
      ],
      "text/plain": [
       "  feature  VIF from var  VIF from R2  statsmodel\n",
       "0     Age      1.762807     1.762807    1.762807\n",
       "1  Weight      8.417035     8.417035    8.417035\n",
       "2     BSA      5.328751     5.328751    5.328751\n",
       "3     Dur      1.237309     1.237309    1.237309\n",
       "4   Pulse      4.413575     4.413575    4.413575\n",
       "5  Stress      1.834845     1.834845    1.834845"
      ]
     },
     "execution_count": 9,
     "metadata": {},
     "output_type": "execute_result"
    }
   ],
   "source": [
    "# First formula, based on the variance of component j\n",
    "def calculateFormulaVar(xj, Xj):\n",
    "    n = xj.dot(xj)\n",
    "    m1 = xj.T.dot(Xj)\n",
    "    m2 = np.linalg.inv(Xj.T.dot(Xj))\n",
    "    m3 = Xj.T.dot(xj)\n",
    "    return n/(n - m1.dot(m2).dot(m3))\n",
    "\n",
    "# Second formula, which requires the design matrix be centered\n",
    "def calculateFormulaR2(xj, Xj):\n",
    "    lg = LinearRegression(fit_intercept=True, normalize=False)\n",
    "    lg.fit(Xj, xj)\n",
    "    R2_j = r2_score(xj, lg.predict(Xj))\n",
    "    return 1.0/(1-R2_j)\n",
    "    \n",
    "\n",
    "# We first center and rescale the design matrix\n",
    "X = data[features].values\n",
    "mu = np.mean(X, axis=0)\n",
    "std = np.std(X, axis=0)\n",
    "stdX = (X - mu)/std\n",
    "    \n",
    "    \n",
    "# start calculation for each feature    \n",
    "formula_var = []\n",
    "formula_R2 = []\n",
    "states_model_res = []\n",
    "\n",
    "for j in range(stdX.shape[1]):\n",
    "    target_idx = j\n",
    "    feature_idx = [i for i in range(stdX.shape[1]) if i != target_idx]\n",
    "    \n",
    "    xj = stdX[:, target_idx]\n",
    "    Xj = stdX[:, feature_idx]\n",
    "    \n",
    "    formula_var.append(calculateFormulaVar(xj, Xj))\n",
    "    formula_R2.append(calculateFormulaR2(xj, Xj))\n",
    "    states_model_res.append(variance_inflation_factor(stdX, j))\n",
    "    \n",
    "    \n",
    "df = pd.DataFrame({'feature': features, \n",
    "                   'VIF from var': formula_var,\n",
    "                   'VIF from R2': formula_R2, \n",
    "                   'statsmodel': states_model_res})\n",
    "df = df[['feature', 'VIF from var', 'VIF from R2', 'statsmodel']]\n",
    "df"
   ]
  },
  {
   "cell_type": "markdown",
   "metadata": {},
   "source": [
    "\n",
    "Note that having multicollinearity in the predictors does **not** necessarily affect the predictive power in the regression model. The following code does linear regression and calculates the R2 with 1) the full list of features, 2) the list of features with Weight (highest VIF feature) removed.\n"
   ]
  },
  {
   "cell_type": "code",
   "execution_count": 23,
   "metadata": {
    "collapsed": false
   },
   "outputs": [
    {
     "name": "stdout",
     "output_type": "stream",
     "text": [
      "with the full list of features, R2=0.996\n",
      "features: ['Age', 'Weight', 'BSA', 'Dur', 'Pulse', 'Stress']\n",
      "coefficients: [ 1.7139919   4.06023526  0.50237267  0.14298598 -0.31316366  0.2013947 ]\n",
      "\n",
      "with Weight ignored, R2=0.926\n",
      "features: ['Age' 'BSA' 'Dur' 'Pulse' 'Stress']\n",
      "coefficients: [ 1.37206986  3.26629837  0.16062286  1.6918976  -0.60487654]\n",
      "\n"
     ]
    }
   ],
   "source": [
    "lg = LinearRegression(fit_intercept=True, normalize=False)\n",
    "lg.fit(stdX, data[response])\n",
    "R2_full = r2_score(data[response], lg.predict(stdX))\n",
    "print('with the full list of features, R2={0:.3f}'.format(R2_full))\n",
    "print('features: {0:}'.format(features))\n",
    "print('coefficients: {0:}'.format(lg.coef_))\n",
    "print('')\n",
    "\n",
    "lg = LinearRegression(fit_intercept=True, normalize=False)\n",
    "feature_idx = [0, 2, 3, 4, 5]\n",
    "lg.fit(stdX[:,feature_idx], data[response])\n",
    "R2_partial1 = r2_score(data[response], lg.predict(stdX[:, feature_idx]))\n",
    "print('with Weight ignored, R2={0:.3f}'.format(R2_partial1))\n",
    "print('features: {0:}'.format(np.array(features)[feature_idx]))\n",
    "print('coefficients: {0:}'.format(lg.coef_))\n",
    "print('')\n"
   ]
  },
  {
   "cell_type": "markdown",
   "metadata": {},
   "source": [
    "As explained in Ref. [2], the issues caused by multicollinearity are that:\n",
    "\n",
    "1) $X^T X$ maybe non-invertible, because the rank of $X$ gets reduced due to multicollinearity\n",
    "\n",
    "2) The interpretation of the coefficients may be incorrect when multicollinearity is present. For example, in the above two regresion models, the first model seems to suggest that one unit increase in BSA will increase the blood pressure by only 0.5, while the second model (less multicollinearity) says that one unit increase in BSA is actully causing 3.3 increase in the blood pressure."
   ]
  },
  {
   "cell_type": "code",
   "execution_count": null,
   "metadata": {
    "collapsed": true
   },
   "outputs": [],
   "source": []
  }
 ],
 "metadata": {
  "kernelspec": {
   "display_name": "Python 3",
   "language": "python",
   "name": "python3"
  },
  "language_info": {
   "codemirror_mode": {
    "name": "ipython",
    "version": 3
   },
   "file_extension": ".py",
   "mimetype": "text/x-python",
   "name": "python",
   "nbconvert_exporter": "python",
   "pygments_lexer": "ipython3",
   "version": "3.5.2"
  }
 },
 "nbformat": 4,
 "nbformat_minor": 0
}
