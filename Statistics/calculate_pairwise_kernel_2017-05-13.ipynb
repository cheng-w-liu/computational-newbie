{
 "cells": [
  {
   "cell_type": "markdown",
   "metadata": {},
   "source": [
    "In this note, we are interested in calculating the kernel between two feature vectors $x^{(i)}$ and $x^{(j)}$. \n",
    "\n",
    "We assume the kernel has the form:\n",
    "\n",
    "$\n",
    "k(a, b) = ||a-b||^2  \\hspace{400pt}\n",
    "$\n",
    "\n",
    "Typically the feature vectors appear in a design matrix,\n",
    "$\n",
    "A = \\left(\\begin{matrix} a^{(1)^T} \\\\  a^{(2)^T} \\\\ \\dots \\\\ a^{(N_a)^T}\\end{matrix} \\right) \\hspace{500pt}\n",
    "$\n",
    "\n",
    "$\n",
    "B = \\left(\\begin{matrix} b^{(1)^T} \\\\  b^{(2)^T} \\\\ \\dots \\\\ b^{(N_b)^T}\\end{matrix} \\right) \\hspace{500pt}\n",
    "$\n",
    "\n",
    "where $A$ is a $N_a \\times p$ matrix, and $B$ is a $N_b \\times p$ matrix. When calculating all possible combinations of the pair-wise similarity that a kernel approximates, we need to calculate the matrix $K(A, B)$, where $K_{i,j} = || a^{(i)}  - b^{(j)} ||^2 \\hspace{300pt}$\n"
   ]
  },
  {
   "cell_type": "code",
   "execution_count": 1,
   "metadata": {
    "collapsed": true
   },
   "outputs": [],
   "source": [
    "import datetime\n",
    "import numpy as np\n"
   ]
  },
  {
   "cell_type": "code",
   "execution_count": 2,
   "metadata": {
    "collapsed": true
   },
   "outputs": [],
   "source": [
    "def kernel_naive(A, B):\n",
    "    Nrow, Ncol = A.shape[0], B.shape[0]    \n",
    "    K = np.zeros((Nrow, Ncol))\n",
    "    for i in range(Nrow):\n",
    "        for j in range(Ncol):\n",
    "            a = A[i, :]\n",
    "            b = B[j, :]\n",
    "            K[i, j] = np.sum((a-b)**2)\n",
    "    return K\n"
   ]
  },
  {
   "cell_type": "code",
   "execution_count": 3,
   "metadata": {
    "collapsed": true
   },
   "outputs": [],
   "source": [
    "def kernel_vectorized(A, B):\n",
    "    A2 = np.sum(A**2, 1).reshape(-1, 1)  #  a N_a X 1 column vector\n",
    "    B2 = np.sum(B**2, 1)  # a 1 x N_b row vector\n",
    "    AdotB = np.dot(A, B.T)  # N_a x N_b \n",
    "    K = A2 + B2 - 2*AdotB\n",
    "    return K\n",
    "\n",
    "# Note that the above A2 + B2 operation relis on numpy to automatically fill in the mismatched dimension,\n",
    "#  a more explicit expression will be the following:\n",
    "#   N_a = A.shape[0]\n",
    "#   N_b = B.shape[0]\n",
    "#   np.tile(A2, reps=(1, N_b)) + np.tile(B2, reps=(N_a, 1))"
   ]
  },
  {
   "cell_type": "code",
   "execution_count": 4,
   "metadata": {
    "collapsed": false
   },
   "outputs": [],
   "source": [
    "p = 50\n",
    "Ntrain = 4000\n",
    "Ntest = 1000\n",
    "\n",
    "Xtrain = np.random.normal(loc=4, scale=1.5, size=(Ntrain, p))\n",
    "Xtest = np.random.normal(loc=4, scale=1.5, size=(Ntest, p))\n"
   ]
  },
  {
   "cell_type": "markdown",
   "metadata": {},
   "source": [
    "The demos below show the dramatic difference in performance between the naive implementation by looping through the element one-by-one and the matrix operation"
   ]
  },
  {
   "cell_type": "code",
   "execution_count": 9,
   "metadata": {
    "collapsed": false
   },
   "outputs": [
    {
     "name": "stdout",
     "output_type": "stream",
     "text": [
      "calculate K11:\n",
      "naive: 0:01:17.933787\n",
      "vectorized: 0:00:00.276547\n",
      "True\n",
      "boost when calculating K11: 281.8\n",
      "\n",
      "calculate K12:\n",
      "naive: 0:00:22.500848\n",
      "vectorized: 0:00:00.052054\n",
      "True\n",
      "boost when calculating K12: 432.3\n",
      "\n",
      "calculate K22:\n",
      "naive: 0:00:05.249574\n",
      "vectorized: 0:00:00.016570\n",
      "True\n",
      "boost when calculating K22: 316.8\n",
      "\n"
     ]
    }
   ],
   "source": [
    "DIFF_EPSILON = 1e-10\n",
    "\n",
    "# K11\n",
    "print('calculate K11:')\n",
    "start_time = datetime.datetime.now()\n",
    "K_naive = kernel_naive(Xtrain, Xtrain)\n",
    "elapsed_time_naive = datetime.datetime.now() - start_time\n",
    "print('naive: {0:}'.format(elapsed_time_naive))\n",
    "\n",
    "start_time = datetime.datetime.now()\n",
    "K_vector = kernel_vectorized(Xtrain, Xtrain)\n",
    "elapsed_time_vector = datetime.datetime.now() - start_time\n",
    "print('vectorized: {0:}'.format(elapsed_time_vector))\n",
    "\n",
    "print(np.all(np.abs(K_naive - K_vector) < DIFF_EPSILON))\n",
    "ratio = elapsed_time_naive/elapsed_time_vector\n",
    "print('boost when calculating K11: {0:.1f}'.format(ratio))\n",
    "print('')\n",
    "\n",
    "\n",
    "# K12\n",
    "print('calculate K12:')\n",
    "start_time = datetime.datetime.now()\n",
    "K_naive = kernel_naive(Xtrain, Xtest)\n",
    "elapsed_time_naive = datetime.datetime.now() - start_time\n",
    "print('naive: {0:}'.format(elapsed_time_naive))\n",
    "\n",
    "start_time = datetime.datetime.now()\n",
    "K_vector = kernel_vectorized(Xtrain, Xtest)\n",
    "elapsed_time_vector = datetime.datetime.now() - start_time\n",
    "print('vectorized: {0:}'.format(elapsed_time_vector))\n",
    "\n",
    "print(np.all(np.abs(K_naive - K_vector) < DIFF_EPSILON))\n",
    "ratio = elapsed_time_naive/elapsed_time_vector\n",
    "print('boost when calculating K12: {0:.1f}'.format(ratio))\n",
    "print('')\n",
    "\n",
    "\n",
    "# K22\n",
    "print('calculate K22:')\n",
    "start_time = datetime.datetime.now()\n",
    "K_naive = kernel_naive(Xtest, Xtest)\n",
    "elapsed_time_naive = datetime.datetime.now() - start_time\n",
    "print('naive: {0:}'.format(elapsed_time_naive))\n",
    "\n",
    "start_time = datetime.datetime.now()\n",
    "K_vector = kernel_vectorized(Xtest, Xtest)\n",
    "elapsed_time_vector = datetime.datetime.now() - start_time\n",
    "print('vectorized: {0:}'.format(elapsed_time_vector))\n",
    "\n",
    "print(np.all(np.abs(K_naive - K_vector) < DIFF_EPSILON))\n",
    "ratio = elapsed_time_naive/elapsed_time_vector\n",
    "print('boost when calculating K22: {0:.1f}'.format(ratio))\n",
    "print('')\n"
   ]
  },
  {
   "cell_type": "code",
   "execution_count": null,
   "metadata": {
    "collapsed": true
   },
   "outputs": [],
   "source": []
  }
 ],
 "metadata": {
  "kernelspec": {
   "display_name": "Python 3",
   "language": "python",
   "name": "python3"
  },
  "language_info": {
   "codemirror_mode": {
    "name": "ipython",
    "version": 3
   },
   "file_extension": ".py",
   "mimetype": "text/x-python",
   "name": "python",
   "nbconvert_exporter": "python",
   "pygments_lexer": "ipython3",
   "version": "3.5.3"
  }
 },
 "nbformat": 4,
 "nbformat_minor": 0
}
