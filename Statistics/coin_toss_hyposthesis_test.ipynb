{
 "cells": [
  {
   "cell_type": "markdown",
   "metadata": {},
   "source": [
    "Using Monte Carlo approach to do hypothesis testing. Motivated by Chapter 9 of Think Stats, by Allen B. Downey.\n",
    "\n",
    "Below we use coin toss as a demonstration.\n",
    "\n",
    "Suppose we toss a coin 250 times, and observe 140 heads and 110 tails. We want to know if the coin is a fair coin."
   ]
  },
  {
   "cell_type": "code",
   "execution_count": 1,
   "metadata": {
    "collapsed": true
   },
   "outputs": [],
   "source": [
    "import numpy as np\n",
    "import pandas as pd"
   ]
  },
  {
   "cell_type": "code",
   "execution_count": 13,
   "metadata": {
    "collapsed": true
   },
   "outputs": [],
   "source": [
    "class CoinTest(object):\n",
    "    \n",
    "    def __init__(self, data):\n",
    "        self.heads, self.tails = data\n",
    "        self.actual_statistics = self.computeStatistics(data)\n",
    "\n",
    "        \n",
    "    def computeStatistics(self, data):        \n",
    "        heads, tails = data\n",
    "        return abs(heads - tails)\n",
    "\n",
    "\n",
    "    def pValue(self, n_iter=100):\n",
    "        stats = np.array([self.computeStatistics(self.MonteCarlo()) for _ in range(n_iter)])\n",
    "        count_extremes = np.sum(stats > self.actual_statistics)\n",
    "        return float(count_extremes)/float(n_iter)\n",
    "        \n",
    "    \n",
    "    def MonteCarlo(self):\n",
    "        n = self.heads + self.tails\n",
    "        hist = pd.Series(np.random.choice(['H', 'T'], size=n, replace=True)).value_counts().to_dict()\n",
    "        heads = hist['H'] if 'H' in hist else 0\n",
    "        tails = hist['T'] if 'T' in hist else 0\n",
    "        return (heads, tails)\n",
    "    "
   ]
  },
  {
   "cell_type": "code",
   "execution_count": 21,
   "metadata": {
    "collapsed": false
   },
   "outputs": [
    {
     "name": "stdout",
     "output_type": "stream",
     "text": [
      "0.049\n",
      "Null hypothesis should be rejected\n"
     ]
    }
   ],
   "source": [
    "ct = CoinTest((140, 110))\n",
    "pval = ct.pValue(1000)\n",
    "print(pval)\n",
    "\n",
    "p_value_threshold = 0.05\n",
    "if pval < p_value_threshold:\n",
    "    print('Null hypothesis should be rejected')\n",
    "else:\n",
    "    print('fail to reject null hypothesis')"
   ]
  },
  {
   "cell_type": "code",
   "execution_count": null,
   "metadata": {
    "collapsed": true
   },
   "outputs": [],
   "source": []
  }
 ],
 "metadata": {
  "kernelspec": {
   "display_name": "Python 3",
   "language": "python",
   "name": "python3"
  },
  "language_info": {
   "codemirror_mode": {
    "name": "ipython",
    "version": 3
   },
   "file_extension": ".py",
   "mimetype": "text/x-python",
   "name": "python",
   "nbconvert_exporter": "python",
   "pygments_lexer": "ipython3",
   "version": "3.5.1"
  }
 },
 "nbformat": 4,
 "nbformat_minor": 0
}
