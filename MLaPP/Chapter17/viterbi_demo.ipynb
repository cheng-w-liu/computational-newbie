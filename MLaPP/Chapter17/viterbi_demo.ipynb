{
 "cells": [
  {
   "cell_type": "markdown",
   "metadata": {},
   "source": [
    "Implement Viterbi algorithm for the Hidden Markov Model (HMM) with a multinoulli observation to figure out the most probable sequence of the hidden stats. \n",
    "\n",
    "cf. Ch17, MLaPP, Kevin Murphy\n"
   ]
  },
  {
   "cell_type": "code",
   "execution_count": 1,
   "metadata": {
    "collapsed": true
   },
   "outputs": [],
   "source": [
    "import numpy as np"
   ]
  },
  {
   "cell_type": "code",
   "execution_count": 14,
   "metadata": {
    "collapsed": true
   },
   "outputs": [],
   "source": [
    "def viterbi(obs, Phi, B, pi):\n",
    "    #\n",
    "    # assume that there are K hidden states\n",
    "    #   each state has a distribution over M possible outputs, which we observe\n",
    "    #\n",
    "    # Inputs:\n",
    "    #     obs: observations from a sequence of length T\n",
    "    #\n",
    "    #     Phi: transition matrix for the hidden state, KxK\n",
    "    #\n",
    "    #     B : MxK, state specific distribution over possible outputs\n",
    "    #   \n",
    "    #     pi: K, prior distribution over states\n",
    "    #\n",
    "    # Internal variables:\n",
    "    #     delta: KxT\n",
    "    #         delta[j, t]: the most probable probability for state j at time t\n",
    "    #\n",
    "    #     a: KxT\n",
    "    #        a[j, t]: the most probable state at time (t-1) that would lead to state j at time t\n",
    "    \n",
    "    T = obs.size\n",
    "    K = Phi.shape[0]\n",
    "    \n",
    "    delta = np.zeros((K, T))\n",
    "    a = np.zeros((K, T))\n",
    "    \n",
    "    delta[:, 0] = pi * B[obs[0], :]\n",
    "    for t in range(1, T):\n",
    "        for j in range(K):\n",
    "            delta[j, t] = np.max(delta[:, t-1] * Phi[:, j] * B[obs[t], j])\n",
    "            a[j, t] = np.argmax(delta[:, t-1] * Phi[:, j] * B[obs[t], j])\n",
    "            \n",
    "    # traceback \n",
    "    path = np.zeros(T)\n",
    "    path[T-1] = np.argmax(delta[:, T-1])\n",
    "    for t in range(T-2, -1, -1):\n",
    "        path[t] = a[int(path[t+1]), t+1]\n",
    "        \n",
    "    return path"
   ]
  },
  {
   "cell_type": "code",
   "execution_count": 2,
   "metadata": {
    "collapsed": true
   },
   "outputs": [],
   "source": [
    "obs = np.array([0, 2, 3, 5])"
   ]
  },
  {
   "cell_type": "code",
   "execution_count": 18,
   "metadata": {
    "collapsed": true
   },
   "outputs": [],
   "source": [
    "K = 3\n",
    "Phi = [[0.3, 0.7, 0], \n",
    "       [0, 0.9, 0.1],\n",
    "       [0.6, 0, 0.4]]\n",
    "Phi = np.array(Phi)"
   ]
  },
  {
   "cell_type": "code",
   "execution_count": 9,
   "metadata": {
    "collapsed": false
   },
   "outputs": [],
   "source": [
    "M = 7\n",
    "B = [[0.5, 0, 0], \n",
    "     [0.3, 0, 0], \n",
    "     [0.2, 0.2, 0],\n",
    "     [0, 0.7, 0.1],\n",
    "     [0, 0.1, 0],\n",
    "     [0, 0, 0.5],\n",
    "     [0, 0, 0.4]]\n",
    "B = np.array(B)"
   ]
  },
  {
   "cell_type": "code",
   "execution_count": 22,
   "metadata": {
    "collapsed": false
   },
   "outputs": [],
   "source": [
    "pi = np.array([1.0/3.0, 1.0/3.0, 1.0/3.0])"
   ]
  },
  {
   "cell_type": "code",
   "execution_count": 23,
   "metadata": {
    "collapsed": false
   },
   "outputs": [
    {
     "name": "stdout",
     "output_type": "stream",
     "text": [
      "[ 0.  1.  1.  2.]\n"
     ]
    }
   ],
   "source": [
    "most_probable_sequence = viterbi(obs, Phi, B, pi)\n",
    "print(most_probable_sequence)"
   ]
  },
  {
   "cell_type": "code",
   "execution_count": null,
   "metadata": {
    "collapsed": true
   },
   "outputs": [],
   "source": []
  }
 ],
 "metadata": {
  "kernelspec": {
   "display_name": "Python 3",
   "language": "python",
   "name": "python3"
  },
  "language_info": {
   "codemirror_mode": {
    "name": "ipython",
    "version": 3
   },
   "file_extension": ".py",
   "mimetype": "text/x-python",
   "name": "python",
   "nbconvert_exporter": "python",
   "pygments_lexer": "ipython3",
   "version": "3.5.3"
  }
 },
 "nbformat": 4,
 "nbformat_minor": 0
}
